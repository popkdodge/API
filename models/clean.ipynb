{
 "metadata": {
  "language_info": {
   "codemirror_mode": {
    "name": "ipython",
    "version": 3
   },
   "file_extension": ".py",
   "mimetype": "text/x-python",
   "name": "python",
   "nbconvert_exporter": "python",
   "pygments_lexer": "ipython3",
   "version": 3
  },
  "orig_nbformat": 2,
  "kernelspec": {
   "name": "python_defaultSpec_1595875038707",
   "display_name": "Python 3.7.7 64-bit ('base': conda)"
  }
 },
 "nbformat": 4,
 "nbformat_minor": 2,
 "cells": [
  {
   "cell_type": "markdown",
   "metadata": {},
   "source": [
    "# Hi There!\n",
    "This is a ipynb notebook that do data cleaning and engineering which will create a clean dataset almost ready to train models on. This is also created to find out a list of features that will be use to predict!'\n",
    "---\n",
    "\n",
    "### Features\n",
    "---\n",
    "#### property_types : str\n",
    "        - Apartment\n",
    "        - House\n",
    "        - Condominium\n",
    "        - Townhouse\n",
    "        - Loaf\n",
    "        - Other\n",
    "#### room_type : str\n",
    "        - Entire home/apt\n",
    "        - Private room\n",
    "        - Shared room\n",
    "#### bed_type : str\n",
    "        - Real Bed\n",
    "        - Futon\n",
    "        - Pull-out Sofa\n",
    "        - Airbed\n",
    "        - Couch\n",
    "#### occupancy(accommodates) : int\n",
    "#### bathooms : float\n",
    "#### cancellation_policy : str\n",
    "        - strict\n",
    "        - flexible\n",
    "        - moderate\n",
    "#### cleaning_fee : Boolean\n",
    "#### city : str\n",
    "        - NYC\n",
    "        - SF\n",
    "        - Chicago\n",
    "        - Boston\n",
    "        - LA\n",
    "        - DC\n",
    "#### host_has_profile_pic : Bool\n",
    "#### host_identity_verified : Bool\n",
    "#### instant_bookable : Bool\n",
    "#### latitude : Float (maybe?)\n",
    "#### longitude : Float (maybe?)\n",
    "#### review_scores_rating : int of range (0-100) (maybe?)\n",
    "#### zipcode : int(5)\n",
    "#### bedrooms : float\n",
    "#### beds : float\n",
    "#### wifi : bool\n",
    "#### kitchen : bool\n",
    "#### AC : bool\n",
    "#### TV : bool\n",
    "#### Washer : bool\n",
    "#### Dryer : bool\n",
    "#### PetsFriendly : bool\n",
    "#### Parking : bool\n",
    "#### EssentialAdmenities : bool\n",
    "#### Description_Len : bool\n"
   ]
  },
  {
   "cell_type": "code",
   "execution_count": 1,
   "metadata": {},
   "outputs": [],
   "source": [
    "import pandas as pd\n",
    "import numpy as np\n",
    "from sklearn.model_selection import train_test_split"
   ]
  },
  {
   "cell_type": "code",
   "execution_count": 2,
   "metadata": {},
   "outputs": [],
   "source": [
    "pd.options.display.max_rows = 30\n",
    "pd.options.display.max_columns = 999"
   ]
  },
  {
   "cell_type": "code",
   "execution_count": 7,
   "metadata": {},
   "outputs": [
    {
     "output_type": "execute_result",
     "data": {
      "text/plain": "             id  log_price property_type        room_type  \\\n0       6901257   5.010635     Apartment  Entire home/apt   \n1       6304928   5.129899     Apartment  Entire home/apt   \n2       7919400   4.976734     Apartment  Entire home/apt   \n3      13418779   6.620073         House  Entire home/apt   \n4       3808709   4.744932     Apartment  Entire home/apt   \n...         ...        ...           ...              ...   \n74106  14549287   4.605170     Apartment     Private room   \n74107  13281809   5.043425     Apartment  Entire home/apt   \n74108  18688039   5.220356     Apartment  Entire home/apt   \n74109  17045948   5.273000     Apartment  Entire home/apt   \n74110   3534845   4.852030          Boat  Entire home/apt   \n\n                                               amenities  accommodates  \\\n0      {\"Wireless Internet\",\"Air conditioning\",Kitche...             3   \n1      {\"Wireless Internet\",\"Air conditioning\",Kitche...             7   \n2      {TV,\"Cable TV\",\"Wireless Internet\",\"Air condit...             5   \n3      {TV,\"Cable TV\",Internet,\"Wireless Internet\",Ki...             4   \n4      {TV,Internet,\"Wireless Internet\",\"Air conditio...             2   \n...                                                  ...           ...   \n74106                                                 {}             1   \n74107  {TV,\"Cable TV\",Internet,\"Wireless Internet\",Ki...             4   \n74108  {TV,Internet,\"Wireless Internet\",\"Air conditio...             5   \n74109  {TV,\"Wireless Internet\",\"Air conditioning\",Kit...             2   \n74110  {TV,Internet,\"Wireless Internet\",Kitchen,\"Free...             4   \n\n       bathrooms  bed_type cancellation_policy  cleaning_fee city  \\\n0            1.0  Real Bed              strict          True  NYC   \n1            1.0  Real Bed              strict          True  NYC   \n2            1.0  Real Bed            moderate          True  NYC   \n3            1.0  Real Bed            flexible          True   SF   \n4            1.0  Real Bed            moderate          True   DC   \n...          ...       ...                 ...           ...  ...   \n74106        1.0  Real Bed            flexible         False  NYC   \n74107        2.0  Real Bed            moderate          True   LA   \n74108        1.0  Real Bed            moderate          True  NYC   \n74109        1.0  Real Bed              strict          True  NYC   \n74110        1.0  Real Bed            moderate         False   LA   \n\n                                             description first_review  \\\n0      Beautiful, sunlit brownstone 1-bedroom in the ...   2016-06-18   \n1      Enjoy travelling during your stay in Manhattan...   2017-08-05   \n2      The Oasis comes complete with a full backyard ...   2017-04-30   \n3      This light-filled home-away-from-home is super...          NaN   \n4      Cool, cozy, and comfortable studio located in ...   2015-05-12   \n...                                                  ...          ...   \n74106                          one room in bushwick apt           NaN   \n74107  Located on the Pacific Coast Highway, this apa...   2016-08-15   \n74108  A modern apartment located in East Williamsbur...   2015-01-03   \n74109  Fully renovated, designer's studio located in ...          NaN   \n74110  You will stay-aboard the Island Trader at one ...   2013-09-05   \n\n      host_has_profile_pic host_identity_verified host_response_rate  \\\n0                        t                      t                NaN   \n1                        t                      f               100%   \n2                        t                      t               100%   \n3                        t                      t                NaN   \n4                        t                      t               100%   \n...                    ...                    ...                ...   \n74106                    t                      t                NaN   \n74107                    t                      f               100%   \n74108                    t                      t               100%   \n74109                    t                      f               100%   \n74110                    t                      t               100%   \n\n       host_since instant_bookable last_review   latitude   longitude  \\\n0      2012-03-26                f  2016-07-18  40.696524  -73.991617   \n1      2017-06-19                t  2017-09-23  40.766115  -73.989040   \n2      2016-10-25                t  2017-09-14  40.808110  -73.943756   \n3      2015-04-19                f         NaN  37.772004 -122.431619   \n4      2015-03-01                t  2017-01-22  38.925627  -77.034596   \n...           ...              ...         ...        ...         ...   \n74106  2013-03-24                f         NaN  40.709025  -73.939405   \n74107  2016-05-03                f  2017-04-15  33.871549 -118.396053   \n74108  2012-01-05                t  2017-09-10  40.706749  -73.942377   \n74109  2017-09-17                t         NaN  40.738535  -74.000157   \n74110  2012-11-26                f  2017-04-30  33.761096 -118.192409   \n\n                                             name     neighbourhood  \\\n0                  Beautiful brownstone 1-bedroom  Brooklyn Heights   \n1        Superb 3BR Apt Located Near Times Square    Hell's Kitchen   \n2                                The Garden Oasis            Harlem   \n3              Beautiful Flat in the Heart of SF!      Lower Haight   \n4                      Great studio in midtown DC  Columbia Heights   \n...                                           ...               ...   \n74106                           one room bushwick      Williamsburg   \n74107                Spacious Hermosa 2 BR on PCH     Hermosa Beach   \n74108  Modern 2 Bedroom Apartment in Williamsburg      Williamsburg   \n74109        Designer's Apartment in HEART of NYC      West Village   \n74110              Cozy Boat at Shoreline Village        Long Beach   \n\n       number_of_reviews  review_scores_rating  \\\n0                      2                 100.0   \n1                      6                  93.0   \n2                     10                  92.0   \n3                      0                   NaN   \n4                      4                  40.0   \n...                  ...                   ...   \n74106                  0                   NaN   \n74107                 16                  93.0   \n74108                 43                  94.0   \n74109                  0                   NaN   \n74110                205                  96.0   \n\n                                           thumbnail_url  zipcode  bedrooms  \\\n0      https://a0.muscache.com/im/pictures/6d7cbbf7-c...    11201       1.0   \n1      https://a0.muscache.com/im/pictures/348a55fe-4...    10019       3.0   \n2      https://a0.muscache.com/im/pictures/6fae5362-9...    10027       1.0   \n3      https://a0.muscache.com/im/pictures/72208dad-9...  94117.0       2.0   \n4                                                    NaN    20009       0.0   \n...                                                  ...      ...       ...   \n74106  https://a0.muscache.com/im/pictures/55162426/6...  11206.0       1.0   \n74107  https://a0.muscache.com/im/pictures/2b86560b-a...    90254       2.0   \n74108  https://a0.muscache.com/im/pictures/7fbe448c-5...  11206.0       2.0   \n74109  https://a0.muscache.com/im/pictures/b3971b63-0...    10011       0.0   \n74110  https://a0.muscache.com/im/pictures/22968537/d...    90802       1.0   \n\n       beds  \n0       1.0  \n1       3.0  \n2       3.0  \n3       2.0  \n4       1.0  \n...     ...  \n74106   1.0  \n74107   4.0  \n74108   2.0  \n74109   2.0  \n74110   2.0  \n\n[74111 rows x 29 columns]",
      "text/html": "<div>\n<style scoped>\n    .dataframe tbody tr th:only-of-type {\n        vertical-align: middle;\n    }\n\n    .dataframe tbody tr th {\n        vertical-align: top;\n    }\n\n    .dataframe thead th {\n        text-align: right;\n    }\n</style>\n<table border=\"1\" class=\"dataframe\">\n  <thead>\n    <tr style=\"text-align: right;\">\n      <th></th>\n      <th>id</th>\n      <th>log_price</th>\n      <th>property_type</th>\n      <th>room_type</th>\n      <th>amenities</th>\n      <th>accommodates</th>\n      <th>bathrooms</th>\n      <th>bed_type</th>\n      <th>cancellation_policy</th>\n      <th>cleaning_fee</th>\n      <th>city</th>\n      <th>description</th>\n      <th>first_review</th>\n      <th>host_has_profile_pic</th>\n      <th>host_identity_verified</th>\n      <th>host_response_rate</th>\n      <th>host_since</th>\n      <th>instant_bookable</th>\n      <th>last_review</th>\n      <th>latitude</th>\n      <th>longitude</th>\n      <th>name</th>\n      <th>neighbourhood</th>\n      <th>number_of_reviews</th>\n      <th>review_scores_rating</th>\n      <th>thumbnail_url</th>\n      <th>zipcode</th>\n      <th>bedrooms</th>\n      <th>beds</th>\n    </tr>\n  </thead>\n  <tbody>\n    <tr>\n      <th>0</th>\n      <td>6901257</td>\n      <td>5.010635</td>\n      <td>Apartment</td>\n      <td>Entire home/apt</td>\n      <td>{\"Wireless Internet\",\"Air conditioning\",Kitche...</td>\n      <td>3</td>\n      <td>1.0</td>\n      <td>Real Bed</td>\n      <td>strict</td>\n      <td>True</td>\n      <td>NYC</td>\n      <td>Beautiful, sunlit brownstone 1-bedroom in the ...</td>\n      <td>2016-06-18</td>\n      <td>t</td>\n      <td>t</td>\n      <td>NaN</td>\n      <td>2012-03-26</td>\n      <td>f</td>\n      <td>2016-07-18</td>\n      <td>40.696524</td>\n      <td>-73.991617</td>\n      <td>Beautiful brownstone 1-bedroom</td>\n      <td>Brooklyn Heights</td>\n      <td>2</td>\n      <td>100.0</td>\n      <td>https://a0.muscache.com/im/pictures/6d7cbbf7-c...</td>\n      <td>11201</td>\n      <td>1.0</td>\n      <td>1.0</td>\n    </tr>\n    <tr>\n      <th>1</th>\n      <td>6304928</td>\n      <td>5.129899</td>\n      <td>Apartment</td>\n      <td>Entire home/apt</td>\n      <td>{\"Wireless Internet\",\"Air conditioning\",Kitche...</td>\n      <td>7</td>\n      <td>1.0</td>\n      <td>Real Bed</td>\n      <td>strict</td>\n      <td>True</td>\n      <td>NYC</td>\n      <td>Enjoy travelling during your stay in Manhattan...</td>\n      <td>2017-08-05</td>\n      <td>t</td>\n      <td>f</td>\n      <td>100%</td>\n      <td>2017-06-19</td>\n      <td>t</td>\n      <td>2017-09-23</td>\n      <td>40.766115</td>\n      <td>-73.989040</td>\n      <td>Superb 3BR Apt Located Near Times Square</td>\n      <td>Hell's Kitchen</td>\n      <td>6</td>\n      <td>93.0</td>\n      <td>https://a0.muscache.com/im/pictures/348a55fe-4...</td>\n      <td>10019</td>\n      <td>3.0</td>\n      <td>3.0</td>\n    </tr>\n    <tr>\n      <th>2</th>\n      <td>7919400</td>\n      <td>4.976734</td>\n      <td>Apartment</td>\n      <td>Entire home/apt</td>\n      <td>{TV,\"Cable TV\",\"Wireless Internet\",\"Air condit...</td>\n      <td>5</td>\n      <td>1.0</td>\n      <td>Real Bed</td>\n      <td>moderate</td>\n      <td>True</td>\n      <td>NYC</td>\n      <td>The Oasis comes complete with a full backyard ...</td>\n      <td>2017-04-30</td>\n      <td>t</td>\n      <td>t</td>\n      <td>100%</td>\n      <td>2016-10-25</td>\n      <td>t</td>\n      <td>2017-09-14</td>\n      <td>40.808110</td>\n      <td>-73.943756</td>\n      <td>The Garden Oasis</td>\n      <td>Harlem</td>\n      <td>10</td>\n      <td>92.0</td>\n      <td>https://a0.muscache.com/im/pictures/6fae5362-9...</td>\n      <td>10027</td>\n      <td>1.0</td>\n      <td>3.0</td>\n    </tr>\n    <tr>\n      <th>3</th>\n      <td>13418779</td>\n      <td>6.620073</td>\n      <td>House</td>\n      <td>Entire home/apt</td>\n      <td>{TV,\"Cable TV\",Internet,\"Wireless Internet\",Ki...</td>\n      <td>4</td>\n      <td>1.0</td>\n      <td>Real Bed</td>\n      <td>flexible</td>\n      <td>True</td>\n      <td>SF</td>\n      <td>This light-filled home-away-from-home is super...</td>\n      <td>NaN</td>\n      <td>t</td>\n      <td>t</td>\n      <td>NaN</td>\n      <td>2015-04-19</td>\n      <td>f</td>\n      <td>NaN</td>\n      <td>37.772004</td>\n      <td>-122.431619</td>\n      <td>Beautiful Flat in the Heart of SF!</td>\n      <td>Lower Haight</td>\n      <td>0</td>\n      <td>NaN</td>\n      <td>https://a0.muscache.com/im/pictures/72208dad-9...</td>\n      <td>94117.0</td>\n      <td>2.0</td>\n      <td>2.0</td>\n    </tr>\n    <tr>\n      <th>4</th>\n      <td>3808709</td>\n      <td>4.744932</td>\n      <td>Apartment</td>\n      <td>Entire home/apt</td>\n      <td>{TV,Internet,\"Wireless Internet\",\"Air conditio...</td>\n      <td>2</td>\n      <td>1.0</td>\n      <td>Real Bed</td>\n      <td>moderate</td>\n      <td>True</td>\n      <td>DC</td>\n      <td>Cool, cozy, and comfortable studio located in ...</td>\n      <td>2015-05-12</td>\n      <td>t</td>\n      <td>t</td>\n      <td>100%</td>\n      <td>2015-03-01</td>\n      <td>t</td>\n      <td>2017-01-22</td>\n      <td>38.925627</td>\n      <td>-77.034596</td>\n      <td>Great studio in midtown DC</td>\n      <td>Columbia Heights</td>\n      <td>4</td>\n      <td>40.0</td>\n      <td>NaN</td>\n      <td>20009</td>\n      <td>0.0</td>\n      <td>1.0</td>\n    </tr>\n    <tr>\n      <th>...</th>\n      <td>...</td>\n      <td>...</td>\n      <td>...</td>\n      <td>...</td>\n      <td>...</td>\n      <td>...</td>\n      <td>...</td>\n      <td>...</td>\n      <td>...</td>\n      <td>...</td>\n      <td>...</td>\n      <td>...</td>\n      <td>...</td>\n      <td>...</td>\n      <td>...</td>\n      <td>...</td>\n      <td>...</td>\n      <td>...</td>\n      <td>...</td>\n      <td>...</td>\n      <td>...</td>\n      <td>...</td>\n      <td>...</td>\n      <td>...</td>\n      <td>...</td>\n      <td>...</td>\n      <td>...</td>\n      <td>...</td>\n      <td>...</td>\n    </tr>\n    <tr>\n      <th>74106</th>\n      <td>14549287</td>\n      <td>4.605170</td>\n      <td>Apartment</td>\n      <td>Private room</td>\n      <td>{}</td>\n      <td>1</td>\n      <td>1.0</td>\n      <td>Real Bed</td>\n      <td>flexible</td>\n      <td>False</td>\n      <td>NYC</td>\n      <td>one room in bushwick apt</td>\n      <td>NaN</td>\n      <td>t</td>\n      <td>t</td>\n      <td>NaN</td>\n      <td>2013-03-24</td>\n      <td>f</td>\n      <td>NaN</td>\n      <td>40.709025</td>\n      <td>-73.939405</td>\n      <td>one room bushwick</td>\n      <td>Williamsburg</td>\n      <td>0</td>\n      <td>NaN</td>\n      <td>https://a0.muscache.com/im/pictures/55162426/6...</td>\n      <td>11206.0</td>\n      <td>1.0</td>\n      <td>1.0</td>\n    </tr>\n    <tr>\n      <th>74107</th>\n      <td>13281809</td>\n      <td>5.043425</td>\n      <td>Apartment</td>\n      <td>Entire home/apt</td>\n      <td>{TV,\"Cable TV\",Internet,\"Wireless Internet\",Ki...</td>\n      <td>4</td>\n      <td>2.0</td>\n      <td>Real Bed</td>\n      <td>moderate</td>\n      <td>True</td>\n      <td>LA</td>\n      <td>Located on the Pacific Coast Highway, this apa...</td>\n      <td>2016-08-15</td>\n      <td>t</td>\n      <td>f</td>\n      <td>100%</td>\n      <td>2016-05-03</td>\n      <td>f</td>\n      <td>2017-04-15</td>\n      <td>33.871549</td>\n      <td>-118.396053</td>\n      <td>Spacious Hermosa 2 BR on PCH</td>\n      <td>Hermosa Beach</td>\n      <td>16</td>\n      <td>93.0</td>\n      <td>https://a0.muscache.com/im/pictures/2b86560b-a...</td>\n      <td>90254</td>\n      <td>2.0</td>\n      <td>4.0</td>\n    </tr>\n    <tr>\n      <th>74108</th>\n      <td>18688039</td>\n      <td>5.220356</td>\n      <td>Apartment</td>\n      <td>Entire home/apt</td>\n      <td>{TV,Internet,\"Wireless Internet\",\"Air conditio...</td>\n      <td>5</td>\n      <td>1.0</td>\n      <td>Real Bed</td>\n      <td>moderate</td>\n      <td>True</td>\n      <td>NYC</td>\n      <td>A modern apartment located in East Williamsbur...</td>\n      <td>2015-01-03</td>\n      <td>t</td>\n      <td>t</td>\n      <td>100%</td>\n      <td>2012-01-05</td>\n      <td>t</td>\n      <td>2017-09-10</td>\n      <td>40.706749</td>\n      <td>-73.942377</td>\n      <td>Modern 2 Bedroom Apartment in Williamsburg</td>\n      <td>Williamsburg</td>\n      <td>43</td>\n      <td>94.0</td>\n      <td>https://a0.muscache.com/im/pictures/7fbe448c-5...</td>\n      <td>11206.0</td>\n      <td>2.0</td>\n      <td>2.0</td>\n    </tr>\n    <tr>\n      <th>74109</th>\n      <td>17045948</td>\n      <td>5.273000</td>\n      <td>Apartment</td>\n      <td>Entire home/apt</td>\n      <td>{TV,\"Wireless Internet\",\"Air conditioning\",Kit...</td>\n      <td>2</td>\n      <td>1.0</td>\n      <td>Real Bed</td>\n      <td>strict</td>\n      <td>True</td>\n      <td>NYC</td>\n      <td>Fully renovated, designer's studio located in ...</td>\n      <td>NaN</td>\n      <td>t</td>\n      <td>f</td>\n      <td>100%</td>\n      <td>2017-09-17</td>\n      <td>t</td>\n      <td>NaN</td>\n      <td>40.738535</td>\n      <td>-74.000157</td>\n      <td>Designer's Apartment in HEART of NYC</td>\n      <td>West Village</td>\n      <td>0</td>\n      <td>NaN</td>\n      <td>https://a0.muscache.com/im/pictures/b3971b63-0...</td>\n      <td>10011</td>\n      <td>0.0</td>\n      <td>2.0</td>\n    </tr>\n    <tr>\n      <th>74110</th>\n      <td>3534845</td>\n      <td>4.852030</td>\n      <td>Boat</td>\n      <td>Entire home/apt</td>\n      <td>{TV,Internet,\"Wireless Internet\",Kitchen,\"Free...</td>\n      <td>4</td>\n      <td>1.0</td>\n      <td>Real Bed</td>\n      <td>moderate</td>\n      <td>False</td>\n      <td>LA</td>\n      <td>You will stay-aboard the Island Trader at one ...</td>\n      <td>2013-09-05</td>\n      <td>t</td>\n      <td>t</td>\n      <td>100%</td>\n      <td>2012-11-26</td>\n      <td>f</td>\n      <td>2017-04-30</td>\n      <td>33.761096</td>\n      <td>-118.192409</td>\n      <td>Cozy Boat at Shoreline Village</td>\n      <td>Long Beach</td>\n      <td>205</td>\n      <td>96.0</td>\n      <td>https://a0.muscache.com/im/pictures/22968537/d...</td>\n      <td>90802</td>\n      <td>1.0</td>\n      <td>2.0</td>\n    </tr>\n  </tbody>\n</table>\n<p>74111 rows × 29 columns</p>\n</div>"
     },
     "metadata": {},
     "execution_count": 7
    }
   ],
   "source": [
    "df = pd.read_csv('train.csv')\n",
    "df"
   ]
  },
  {
   "cell_type": "code",
   "execution_count": 10,
   "metadata": {},
   "outputs": [],
   "source": [
    "df['host_since']= pd.to_datetime(df['host_since'],infer_datetime_format=True) "
   ]
  },
  {
   "cell_type": "code",
   "execution_count": 11,
   "metadata": {},
   "outputs": [
    {
     "output_type": "execute_result",
     "data": {
      "text/plain": "dtype('<M8[ns]')"
     },
     "metadata": {},
     "execution_count": 11
    }
   ],
   "source": [
    "df['host_since'].dtypes"
   ]
  },
  {
   "cell_type": "code",
   "execution_count": 13,
   "metadata": {},
   "outputs": [
    {
     "output_type": "execute_result",
     "data": {
      "text/plain": "0       2012-03-26\n1       2017-06-19\n2       2016-10-25\n3       2015-04-19\n4       2015-03-01\n           ...    \n74106   2013-03-24\n74107   2016-05-03\n74108   2012-01-05\n74109   2017-09-17\n74110   2012-11-26\nName: host_since, Length: 74111, dtype: datetime64[ns]"
     },
     "metadata": {},
     "execution_count": 13
    }
   ],
   "source": [
    "df['host_since']"
   ]
  },
  {
   "cell_type": "code",
   "execution_count": 18,
   "metadata": {},
   "outputs": [],
   "source": [
    "df['host_since']= pd.to_datetime(df['host_since'], errors='coerce')"
   ]
  },
  {
   "cell_type": "code",
   "execution_count": 25,
   "metadata": {
    "tags": []
   },
   "outputs": [
    {
     "output_type": "stream",
     "name": "stdout",
     "text": "Today's date: 2020-07-27\n"
    }
   ],
   "source": [
    "from datetime import date\n",
    "\n",
    "today = date.today()\n",
    "print(\"Today's date:\", today)\n"
   ]
  },
  {
   "cell_type": "code",
   "execution_count": 37,
   "metadata": {
    "tags": []
   },
   "outputs": [
    {
     "output_type": "stream",
     "name": "stdout",
     "text": "TimedeltaIndex(['2001 days'], dtype='timedelta64[ns]', freq=None)\n"
    }
   ],
   "source": [
    "print(list_date - df['host_since'][0] )"
   ]
  },
  {
   "cell_type": "code",
   "execution_count": 42,
   "metadata": {},
   "outputs": [
    {
     "output_type": "execute_result",
     "data": {
      "text/plain": "DatetimeIndex(['2020-07-20'], dtype='datetime64[ns]', freq=None)"
     },
     "metadata": {},
     "execution_count": 42
    }
   ],
   "source": [
    "list_date = pd.to_datetime(['2020-07-20'], errors='coerce')\n",
    "list_date"
   ]
  },
  {
   "cell_type": "code",
   "execution_count": 44,
   "metadata": {},
   "outputs": [],
   "source": [
    "df['todaysdate'] = '2020-07-20'"
   ]
  },
  {
   "cell_type": "code",
   "execution_count": 45,
   "metadata": {},
   "outputs": [],
   "source": [
    "df['todaysdate'] = pd.to_datetime(df['todaysdate'], errors='coerce')"
   ]
  },
  {
   "cell_type": "code",
   "execution_count": 46,
   "metadata": {},
   "outputs": [],
   "source": [
    "df['ageofhost'] = df['todaysdate'] - df['host_since']"
   ]
  },
  {
   "cell_type": "code",
   "execution_count": 87,
   "metadata": {},
   "outputs": [
    {
     "output_type": "execute_result",
     "data": {
      "text/plain": "             id  log_price property_type        room_type  \\\n0       6901257   5.010635     Apartment  Entire home/apt   \n1       6304928   5.129899     Apartment  Entire home/apt   \n2       7919400   4.976734     Apartment  Entire home/apt   \n3      13418779   6.620073         House  Entire home/apt   \n4       3808709   4.744932     Apartment  Entire home/apt   \n...         ...        ...           ...              ...   \n74106  14549287   4.605170     Apartment     Private room   \n74107  13281809   5.043425     Apartment  Entire home/apt   \n74108  18688039   5.220356     Apartment  Entire home/apt   \n74109  17045948   5.273000     Apartment  Entire home/apt   \n74110   3534845   4.852030          Boat  Entire home/apt   \n\n                                               amenities  accommodates  \\\n0      {\"Wireless Internet\",\"Air conditioning\",Kitche...             3   \n1      {\"Wireless Internet\",\"Air conditioning\",Kitche...             7   \n2      {TV,\"Cable TV\",\"Wireless Internet\",\"Air condit...             5   \n3      {TV,\"Cable TV\",Internet,\"Wireless Internet\",Ki...             4   \n4      {TV,Internet,\"Wireless Internet\",\"Air conditio...             2   \n...                                                  ...           ...   \n74106                                                 {}             1   \n74107  {TV,\"Cable TV\",Internet,\"Wireless Internet\",Ki...             4   \n74108  {TV,Internet,\"Wireless Internet\",\"Air conditio...             5   \n74109  {TV,\"Wireless Internet\",\"Air conditioning\",Kit...             2   \n74110  {TV,Internet,\"Wireless Internet\",Kitchen,\"Free...             4   \n\n       bathrooms  bed_type cancellation_policy  cleaning_fee city  \\\n0            1.0  Real Bed              strict          True  NYC   \n1            1.0  Real Bed              strict          True  NYC   \n2            1.0  Real Bed            moderate          True  NYC   \n3            1.0  Real Bed            flexible          True   SF   \n4            1.0  Real Bed            moderate          True   DC   \n...          ...       ...                 ...           ...  ...   \n74106        1.0  Real Bed            flexible         False  NYC   \n74107        2.0  Real Bed            moderate          True   LA   \n74108        1.0  Real Bed            moderate          True  NYC   \n74109        1.0  Real Bed              strict          True  NYC   \n74110        1.0  Real Bed            moderate         False   LA   \n\n                                             description first_review  \\\n0      Beautiful, sunlit brownstone 1-bedroom in the ...   2016-06-18   \n1      Enjoy travelling during your stay in Manhattan...   2017-08-05   \n2      The Oasis comes complete with a full backyard ...   2017-04-30   \n3      This light-filled home-away-from-home is super...          NaN   \n4      Cool, cozy, and comfortable studio located in ...   2015-05-12   \n...                                                  ...          ...   \n74106                          one room in bushwick apt           NaN   \n74107  Located on the Pacific Coast Highway, this apa...   2016-08-15   \n74108  A modern apartment located in East Williamsbur...   2015-01-03   \n74109  Fully renovated, designer's studio located in ...          NaN   \n74110  You will stay-aboard the Island Trader at one ...   2013-09-05   \n\n      host_has_profile_pic host_identity_verified host_response_rate  \\\n0                        t                      t                NaN   \n1                        t                      f               100%   \n2                        t                      t               100%   \n3                        t                      t                NaN   \n4                        t                      t               100%   \n...                    ...                    ...                ...   \n74106                    t                      t                NaN   \n74107                    t                      f               100%   \n74108                    t                      t               100%   \n74109                    t                      f               100%   \n74110                    t                      t               100%   \n\n      host_since instant_bookable last_review   latitude   longitude  \\\n0     2012-03-26                f  2016-07-18  40.696524  -73.991617   \n1     2017-06-19                t  2017-09-23  40.766115  -73.989040   \n2     2016-10-25                t  2017-09-14  40.808110  -73.943756   \n3     2015-04-19                f         NaN  37.772004 -122.431619   \n4     2015-03-01                t  2017-01-22  38.925627  -77.034596   \n...          ...              ...         ...        ...         ...   \n74106 2013-03-24                f         NaN  40.709025  -73.939405   \n74107 2016-05-03                f  2017-04-15  33.871549 -118.396053   \n74108 2012-01-05                t  2017-09-10  40.706749  -73.942377   \n74109 2017-09-17                t         NaN  40.738535  -74.000157   \n74110 2012-11-26                f  2017-04-30  33.761096 -118.192409   \n\n                                             name     neighbourhood  \\\n0                  Beautiful brownstone 1-bedroom  Brooklyn Heights   \n1        Superb 3BR Apt Located Near Times Square    Hell's Kitchen   \n2                                The Garden Oasis            Harlem   \n3              Beautiful Flat in the Heart of SF!      Lower Haight   \n4                      Great studio in midtown DC  Columbia Heights   \n...                                           ...               ...   \n74106                           one room bushwick      Williamsburg   \n74107                Spacious Hermosa 2 BR on PCH     Hermosa Beach   \n74108  Modern 2 Bedroom Apartment in Williamsburg      Williamsburg   \n74109        Designer's Apartment in HEART of NYC      West Village   \n74110              Cozy Boat at Shoreline Village        Long Beach   \n\n       number_of_reviews  review_scores_rating  \\\n0                      2                 100.0   \n1                      6                  93.0   \n2                     10                  92.0   \n3                      0                   NaN   \n4                      4                  40.0   \n...                  ...                   ...   \n74106                  0                   NaN   \n74107                 16                  93.0   \n74108                 43                  94.0   \n74109                  0                   NaN   \n74110                205                  96.0   \n\n                                           thumbnail_url  zipcode  bedrooms  \\\n0      https://a0.muscache.com/im/pictures/6d7cbbf7-c...    11201       1.0   \n1      https://a0.muscache.com/im/pictures/348a55fe-4...    10019       3.0   \n2      https://a0.muscache.com/im/pictures/6fae5362-9...    10027       1.0   \n3      https://a0.muscache.com/im/pictures/72208dad-9...  94117.0       2.0   \n4                                                    NaN    20009       0.0   \n...                                                  ...      ...       ...   \n74106  https://a0.muscache.com/im/pictures/55162426/6...  11206.0       1.0   \n74107  https://a0.muscache.com/im/pictures/2b86560b-a...    90254       2.0   \n74108  https://a0.muscache.com/im/pictures/7fbe448c-5...  11206.0       2.0   \n74109  https://a0.muscache.com/im/pictures/b3971b63-0...    10011       0.0   \n74110  https://a0.muscache.com/im/pictures/22968537/d...    90802       1.0   \n\n       beds todaysdate ageofhost  \n0       1.0 2020-07-20 3038 days  \n1       3.0 2020-07-20 1127 days  \n2       3.0 2020-07-20 1364 days  \n3       2.0 2020-07-20 1919 days  \n4       1.0 2020-07-20 1968 days  \n...     ...        ...       ...  \n74106   1.0 2020-07-20 2675 days  \n74107   4.0 2020-07-20 1539 days  \n74108   2.0 2020-07-20 3119 days  \n74109   2.0 2020-07-20 1037 days  \n74110   2.0 2020-07-20 2793 days  \n\n[74111 rows x 31 columns]",
      "text/html": "<div>\n<style scoped>\n    .dataframe tbody tr th:only-of-type {\n        vertical-align: middle;\n    }\n\n    .dataframe tbody tr th {\n        vertical-align: top;\n    }\n\n    .dataframe thead th {\n        text-align: right;\n    }\n</style>\n<table border=\"1\" class=\"dataframe\">\n  <thead>\n    <tr style=\"text-align: right;\">\n      <th></th>\n      <th>id</th>\n      <th>log_price</th>\n      <th>property_type</th>\n      <th>room_type</th>\n      <th>amenities</th>\n      <th>accommodates</th>\n      <th>bathrooms</th>\n      <th>bed_type</th>\n      <th>cancellation_policy</th>\n      <th>cleaning_fee</th>\n      <th>city</th>\n      <th>description</th>\n      <th>first_review</th>\n      <th>host_has_profile_pic</th>\n      <th>host_identity_verified</th>\n      <th>host_response_rate</th>\n      <th>host_since</th>\n      <th>instant_bookable</th>\n      <th>last_review</th>\n      <th>latitude</th>\n      <th>longitude</th>\n      <th>name</th>\n      <th>neighbourhood</th>\n      <th>number_of_reviews</th>\n      <th>review_scores_rating</th>\n      <th>thumbnail_url</th>\n      <th>zipcode</th>\n      <th>bedrooms</th>\n      <th>beds</th>\n      <th>todaysdate</th>\n      <th>ageofhost</th>\n    </tr>\n  </thead>\n  <tbody>\n    <tr>\n      <th>0</th>\n      <td>6901257</td>\n      <td>5.010635</td>\n      <td>Apartment</td>\n      <td>Entire home/apt</td>\n      <td>{\"Wireless Internet\",\"Air conditioning\",Kitche...</td>\n      <td>3</td>\n      <td>1.0</td>\n      <td>Real Bed</td>\n      <td>strict</td>\n      <td>True</td>\n      <td>NYC</td>\n      <td>Beautiful, sunlit brownstone 1-bedroom in the ...</td>\n      <td>2016-06-18</td>\n      <td>t</td>\n      <td>t</td>\n      <td>NaN</td>\n      <td>2012-03-26</td>\n      <td>f</td>\n      <td>2016-07-18</td>\n      <td>40.696524</td>\n      <td>-73.991617</td>\n      <td>Beautiful brownstone 1-bedroom</td>\n      <td>Brooklyn Heights</td>\n      <td>2</td>\n      <td>100.0</td>\n      <td>https://a0.muscache.com/im/pictures/6d7cbbf7-c...</td>\n      <td>11201</td>\n      <td>1.0</td>\n      <td>1.0</td>\n      <td>2020-07-20</td>\n      <td>3038 days</td>\n    </tr>\n    <tr>\n      <th>1</th>\n      <td>6304928</td>\n      <td>5.129899</td>\n      <td>Apartment</td>\n      <td>Entire home/apt</td>\n      <td>{\"Wireless Internet\",\"Air conditioning\",Kitche...</td>\n      <td>7</td>\n      <td>1.0</td>\n      <td>Real Bed</td>\n      <td>strict</td>\n      <td>True</td>\n      <td>NYC</td>\n      <td>Enjoy travelling during your stay in Manhattan...</td>\n      <td>2017-08-05</td>\n      <td>t</td>\n      <td>f</td>\n      <td>100%</td>\n      <td>2017-06-19</td>\n      <td>t</td>\n      <td>2017-09-23</td>\n      <td>40.766115</td>\n      <td>-73.989040</td>\n      <td>Superb 3BR Apt Located Near Times Square</td>\n      <td>Hell's Kitchen</td>\n      <td>6</td>\n      <td>93.0</td>\n      <td>https://a0.muscache.com/im/pictures/348a55fe-4...</td>\n      <td>10019</td>\n      <td>3.0</td>\n      <td>3.0</td>\n      <td>2020-07-20</td>\n      <td>1127 days</td>\n    </tr>\n    <tr>\n      <th>2</th>\n      <td>7919400</td>\n      <td>4.976734</td>\n      <td>Apartment</td>\n      <td>Entire home/apt</td>\n      <td>{TV,\"Cable TV\",\"Wireless Internet\",\"Air condit...</td>\n      <td>5</td>\n      <td>1.0</td>\n      <td>Real Bed</td>\n      <td>moderate</td>\n      <td>True</td>\n      <td>NYC</td>\n      <td>The Oasis comes complete with a full backyard ...</td>\n      <td>2017-04-30</td>\n      <td>t</td>\n      <td>t</td>\n      <td>100%</td>\n      <td>2016-10-25</td>\n      <td>t</td>\n      <td>2017-09-14</td>\n      <td>40.808110</td>\n      <td>-73.943756</td>\n      <td>The Garden Oasis</td>\n      <td>Harlem</td>\n      <td>10</td>\n      <td>92.0</td>\n      <td>https://a0.muscache.com/im/pictures/6fae5362-9...</td>\n      <td>10027</td>\n      <td>1.0</td>\n      <td>3.0</td>\n      <td>2020-07-20</td>\n      <td>1364 days</td>\n    </tr>\n    <tr>\n      <th>3</th>\n      <td>13418779</td>\n      <td>6.620073</td>\n      <td>House</td>\n      <td>Entire home/apt</td>\n      <td>{TV,\"Cable TV\",Internet,\"Wireless Internet\",Ki...</td>\n      <td>4</td>\n      <td>1.0</td>\n      <td>Real Bed</td>\n      <td>flexible</td>\n      <td>True</td>\n      <td>SF</td>\n      <td>This light-filled home-away-from-home is super...</td>\n      <td>NaN</td>\n      <td>t</td>\n      <td>t</td>\n      <td>NaN</td>\n      <td>2015-04-19</td>\n      <td>f</td>\n      <td>NaN</td>\n      <td>37.772004</td>\n      <td>-122.431619</td>\n      <td>Beautiful Flat in the Heart of SF!</td>\n      <td>Lower Haight</td>\n      <td>0</td>\n      <td>NaN</td>\n      <td>https://a0.muscache.com/im/pictures/72208dad-9...</td>\n      <td>94117.0</td>\n      <td>2.0</td>\n      <td>2.0</td>\n      <td>2020-07-20</td>\n      <td>1919 days</td>\n    </tr>\n    <tr>\n      <th>4</th>\n      <td>3808709</td>\n      <td>4.744932</td>\n      <td>Apartment</td>\n      <td>Entire home/apt</td>\n      <td>{TV,Internet,\"Wireless Internet\",\"Air conditio...</td>\n      <td>2</td>\n      <td>1.0</td>\n      <td>Real Bed</td>\n      <td>moderate</td>\n      <td>True</td>\n      <td>DC</td>\n      <td>Cool, cozy, and comfortable studio located in ...</td>\n      <td>2015-05-12</td>\n      <td>t</td>\n      <td>t</td>\n      <td>100%</td>\n      <td>2015-03-01</td>\n      <td>t</td>\n      <td>2017-01-22</td>\n      <td>38.925627</td>\n      <td>-77.034596</td>\n      <td>Great studio in midtown DC</td>\n      <td>Columbia Heights</td>\n      <td>4</td>\n      <td>40.0</td>\n      <td>NaN</td>\n      <td>20009</td>\n      <td>0.0</td>\n      <td>1.0</td>\n      <td>2020-07-20</td>\n      <td>1968 days</td>\n    </tr>\n    <tr>\n      <th>...</th>\n      <td>...</td>\n      <td>...</td>\n      <td>...</td>\n      <td>...</td>\n      <td>...</td>\n      <td>...</td>\n      <td>...</td>\n      <td>...</td>\n      <td>...</td>\n      <td>...</td>\n      <td>...</td>\n      <td>...</td>\n      <td>...</td>\n      <td>...</td>\n      <td>...</td>\n      <td>...</td>\n      <td>...</td>\n      <td>...</td>\n      <td>...</td>\n      <td>...</td>\n      <td>...</td>\n      <td>...</td>\n      <td>...</td>\n      <td>...</td>\n      <td>...</td>\n      <td>...</td>\n      <td>...</td>\n      <td>...</td>\n      <td>...</td>\n      <td>...</td>\n      <td>...</td>\n    </tr>\n    <tr>\n      <th>74106</th>\n      <td>14549287</td>\n      <td>4.605170</td>\n      <td>Apartment</td>\n      <td>Private room</td>\n      <td>{}</td>\n      <td>1</td>\n      <td>1.0</td>\n      <td>Real Bed</td>\n      <td>flexible</td>\n      <td>False</td>\n      <td>NYC</td>\n      <td>one room in bushwick apt</td>\n      <td>NaN</td>\n      <td>t</td>\n      <td>t</td>\n      <td>NaN</td>\n      <td>2013-03-24</td>\n      <td>f</td>\n      <td>NaN</td>\n      <td>40.709025</td>\n      <td>-73.939405</td>\n      <td>one room bushwick</td>\n      <td>Williamsburg</td>\n      <td>0</td>\n      <td>NaN</td>\n      <td>https://a0.muscache.com/im/pictures/55162426/6...</td>\n      <td>11206.0</td>\n      <td>1.0</td>\n      <td>1.0</td>\n      <td>2020-07-20</td>\n      <td>2675 days</td>\n    </tr>\n    <tr>\n      <th>74107</th>\n      <td>13281809</td>\n      <td>5.043425</td>\n      <td>Apartment</td>\n      <td>Entire home/apt</td>\n      <td>{TV,\"Cable TV\",Internet,\"Wireless Internet\",Ki...</td>\n      <td>4</td>\n      <td>2.0</td>\n      <td>Real Bed</td>\n      <td>moderate</td>\n      <td>True</td>\n      <td>LA</td>\n      <td>Located on the Pacific Coast Highway, this apa...</td>\n      <td>2016-08-15</td>\n      <td>t</td>\n      <td>f</td>\n      <td>100%</td>\n      <td>2016-05-03</td>\n      <td>f</td>\n      <td>2017-04-15</td>\n      <td>33.871549</td>\n      <td>-118.396053</td>\n      <td>Spacious Hermosa 2 BR on PCH</td>\n      <td>Hermosa Beach</td>\n      <td>16</td>\n      <td>93.0</td>\n      <td>https://a0.muscache.com/im/pictures/2b86560b-a...</td>\n      <td>90254</td>\n      <td>2.0</td>\n      <td>4.0</td>\n      <td>2020-07-20</td>\n      <td>1539 days</td>\n    </tr>\n    <tr>\n      <th>74108</th>\n      <td>18688039</td>\n      <td>5.220356</td>\n      <td>Apartment</td>\n      <td>Entire home/apt</td>\n      <td>{TV,Internet,\"Wireless Internet\",\"Air conditio...</td>\n      <td>5</td>\n      <td>1.0</td>\n      <td>Real Bed</td>\n      <td>moderate</td>\n      <td>True</td>\n      <td>NYC</td>\n      <td>A modern apartment located in East Williamsbur...</td>\n      <td>2015-01-03</td>\n      <td>t</td>\n      <td>t</td>\n      <td>100%</td>\n      <td>2012-01-05</td>\n      <td>t</td>\n      <td>2017-09-10</td>\n      <td>40.706749</td>\n      <td>-73.942377</td>\n      <td>Modern 2 Bedroom Apartment in Williamsburg</td>\n      <td>Williamsburg</td>\n      <td>43</td>\n      <td>94.0</td>\n      <td>https://a0.muscache.com/im/pictures/7fbe448c-5...</td>\n      <td>11206.0</td>\n      <td>2.0</td>\n      <td>2.0</td>\n      <td>2020-07-20</td>\n      <td>3119 days</td>\n    </tr>\n    <tr>\n      <th>74109</th>\n      <td>17045948</td>\n      <td>5.273000</td>\n      <td>Apartment</td>\n      <td>Entire home/apt</td>\n      <td>{TV,\"Wireless Internet\",\"Air conditioning\",Kit...</td>\n      <td>2</td>\n      <td>1.0</td>\n      <td>Real Bed</td>\n      <td>strict</td>\n      <td>True</td>\n      <td>NYC</td>\n      <td>Fully renovated, designer's studio located in ...</td>\n      <td>NaN</td>\n      <td>t</td>\n      <td>f</td>\n      <td>100%</td>\n      <td>2017-09-17</td>\n      <td>t</td>\n      <td>NaN</td>\n      <td>40.738535</td>\n      <td>-74.000157</td>\n      <td>Designer's Apartment in HEART of NYC</td>\n      <td>West Village</td>\n      <td>0</td>\n      <td>NaN</td>\n      <td>https://a0.muscache.com/im/pictures/b3971b63-0...</td>\n      <td>10011</td>\n      <td>0.0</td>\n      <td>2.0</td>\n      <td>2020-07-20</td>\n      <td>1037 days</td>\n    </tr>\n    <tr>\n      <th>74110</th>\n      <td>3534845</td>\n      <td>4.852030</td>\n      <td>Boat</td>\n      <td>Entire home/apt</td>\n      <td>{TV,Internet,\"Wireless Internet\",Kitchen,\"Free...</td>\n      <td>4</td>\n      <td>1.0</td>\n      <td>Real Bed</td>\n      <td>moderate</td>\n      <td>False</td>\n      <td>LA</td>\n      <td>You will stay-aboard the Island Trader at one ...</td>\n      <td>2013-09-05</td>\n      <td>t</td>\n      <td>t</td>\n      <td>100%</td>\n      <td>2012-11-26</td>\n      <td>f</td>\n      <td>2017-04-30</td>\n      <td>33.761096</td>\n      <td>-118.192409</td>\n      <td>Cozy Boat at Shoreline Village</td>\n      <td>Long Beach</td>\n      <td>205</td>\n      <td>96.0</td>\n      <td>https://a0.muscache.com/im/pictures/22968537/d...</td>\n      <td>90802</td>\n      <td>1.0</td>\n      <td>2.0</td>\n      <td>2020-07-20</td>\n      <td>2793 days</td>\n    </tr>\n  </tbody>\n</table>\n<p>74111 rows × 31 columns</p>\n</div>"
     },
     "metadata": {},
     "execution_count": 87
    }
   ],
   "source": [
    "df"
   ]
  },
  {
   "cell_type": "code",
   "execution_count": 48,
   "metadata": {},
   "outputs": [
    {
     "output_type": "error",
     "ename": "NameError",
     "evalue": "name 'pipeline' is not defined",
     "traceback": [
      "\u001b[0;31m---------------------------------------------------------------------------\u001b[0m",
      "\u001b[0;31mNameError\u001b[0m                                 Traceback (most recent call last)",
      "\u001b[0;32m<ipython-input-48-1ad2dab0edde>\u001b[0m in \u001b[0;36m<module>\u001b[0;34m\u001b[0m\n\u001b[1;32m      1\u001b[0m \u001b[0;32mfrom\u001b[0m \u001b[0msklearn\u001b[0m\u001b[0;34m.\u001b[0m\u001b[0minspection\u001b[0m \u001b[0;32mimport\u001b[0m \u001b[0mpermutation_importance\u001b[0m\u001b[0;34m\u001b[0m\u001b[0;34m\u001b[0m\u001b[0m\n\u001b[1;32m      2\u001b[0m \u001b[0;34m\u001b[0m\u001b[0m\n\u001b[0;32m----> 3\u001b[0;31m pi = permutation_importance(pipeline,\n\u001b[0m\u001b[1;32m      4\u001b[0m                             \u001b[0mX_test\u001b[0m\u001b[0;34m,\u001b[0m\u001b[0;34m\u001b[0m\u001b[0;34m\u001b[0m\u001b[0m\n\u001b[1;32m      5\u001b[0m                             \u001b[0mY_test\u001b[0m\u001b[0;34m,\u001b[0m\u001b[0;34m\u001b[0m\u001b[0;34m\u001b[0m\u001b[0m\n",
      "\u001b[0;31mNameError\u001b[0m: name 'pipeline' is not defined"
     ]
    }
   ],
   "source": [
    "from sklearn.inspection import permutation_importance\n",
    "\n",
    "pi = permutation_importance(pipeline,\n",
    "                            X_test,\n",
    "                            Y_test,\n",
    "                            random_state=42,\n",
    "                            n_jobs=-1)\n",
    "\n",
    "p_importance = pd.DataFrame({'feature' : X_test.columns,\n",
    "                             'weight'  : pi.importances_mean,\n",
    "                             'std'     : pi.importances_std})\n",
    "\n",
    "p_importance.sort_values('weight', ascending=False).tail(30)"
   ]
  },
  {
   "cell_type": "code",
   "execution_count": 88,
   "metadata": {},
   "outputs": [],
   "source": [
    "Train , Test = train_test_split(df, test_size= 0.3, random_state=911)"
   ]
  },
  {
   "cell_type": "code",
   "execution_count": 89,
   "metadata": {},
   "outputs": [
    {
     "output_type": "execute_result",
     "data": {
      "text/plain": "0        149.0\n1        168.0\n2        144.0\n3        749.0\n4        114.0\n         ...  \n74106     99.0\n74107    154.0\n74108    184.0\n74109    194.0\n74110    127.0\nName: log_price, Length: 74111, dtype: float64"
     },
     "metadata": {},
     "execution_count": 89
    }
   ],
   "source": [
    "np.expm1(df['log_price'])"
   ]
  },
  {
   "cell_type": "code",
   "execution_count": 90,
   "metadata": {},
   "outputs": [
    {
     "output_type": "execute_result",
     "data": {
      "text/plain": "             id  log_price property_type        room_type  \\\n70224  16561167   5.298317     Apartment  Entire home/apt   \n60724  20943918   4.700480     Apartment     Private room   \n60109  20211217   5.187386     Apartment  Entire home/apt   \n29534  19103027   3.970292     Apartment     Private room   \n23622   6716160   4.382027         House     Private room   \n...         ...        ...           ...              ...   \n59303    290058   3.912023     Apartment      Shared room   \n95      1830541   5.393628   Condominium  Entire home/apt   \n19004     34000   5.703782         House  Entire home/apt   \n34760   7341529   4.595120         House     Private room   \n73394   6031195   4.094345         House     Private room   \n\n                                               amenities  accommodates  \\\n70224  {\"Cable TV\",\"Wireless Internet\",\"Air condition...             2   \n60724  {TV,\"Cable TV\",Internet,\"Wireless Internet\",Ki...             2   \n60109  {TV,Internet,\"Wireless Internet\",\"Air conditio...             4   \n29534  {Internet,\"Wireless Internet\",\"Air conditionin...             1   \n23622  {Internet,\"Wireless Internet\",Kitchen,Heating,...             1   \n...                                                  ...           ...   \n59303  {Internet,\"Wireless Internet\",Kitchen,\"Indoor ...             1   \n95     {TV,\"Cable TV\",Internet,\"Wireless Internet\",\"A...             3   \n19004  {TV,Internet,\"Wireless Internet\",Kitchen,\"Indo...             4   \n34760  {TV,Internet,\"Wireless Internet\",\"Buzzer/wirel...             2   \n73394  {TV,Internet,\"Wireless Internet\",Kitchen,\"Free...             1   \n\n       bathrooms  bed_type cancellation_policy  cleaning_fee     city  \\\n70224        1.0  Real Bed            flexible         False       DC   \n60724        1.0  Real Bed            flexible          True       LA   \n60109        1.0  Real Bed              strict          True   Boston   \n29534        1.0  Real Bed              strict          True      NYC   \n23622        1.0  Real Bed              strict          True  Chicago   \n...          ...       ...                 ...           ...      ...   \n59303        2.0  Real Bed            flexible          True       SF   \n95           1.0  Real Bed            flexible          True       DC   \n19004        2.0  Real Bed              strict          True       SF   \n34760        1.0  Real Bed            moderate          True       SF   \n73394        1.0  Real Bed            flexible          True       LA   \n\n                                             description first_review  \\\n70224  Walkable to Gtown, Dupont, West-end - simply p...          NaN   \n60724  Private bedroom and bath in modern furnished, ...   2016-01-01   \n60109  Great size studio over looking Boston's Majest...   2017-02-05   \n29534  This listing is ideal for a solo traveler look...   2017-02-17   \n23622  My home is a 1907 Victorian with lots of rusti...          NaN   \n...                                                  ...          ...   \n59303  Penthouse Condo (excelsior / outer mission), n...   2016-10-13   \n95     Beautiful Condo close to Capitol Building, Whi...          NaN   \n19004  This 1 story 1 unit building was built in 1911...   2016-03-27   \n34760  Located in the Alamo Square neighborhood w/ 95...   2014-11-16   \n73394  SEE LISTING \"SPLENDID SANCTUARY IN WEST LA 1\" ...   2017-03-31   \n\n      host_has_profile_pic host_identity_verified host_response_rate  \\\n70224                    f                      f                NaN   \n60724                    t                      t               100%   \n60109                    t                      f               100%   \n29534                    t                      t                95%   \n23622                    t                      t               100%   \n...                    ...                    ...                ...   \n59303                    t                      f               100%   \n95                       t                      f                NaN   \n19004                    t                      t               100%   \n34760                    t                      t               100%   \n73394                    t                      t               100%   \n\n      host_since instant_bookable last_review   latitude   longitude  \\\n70224 2015-01-28                f         NaN  38.911262  -77.052784   \n60724 2012-05-17                f  2017-04-21  34.002413 -118.479747   \n60109 2016-01-27                f  2017-09-23  42.350981  -71.063903   \n29534 2014-01-24                t  2017-09-03  40.736429  -73.954945   \n23622 2013-09-03                f         NaN  41.997834  -87.673729   \n...          ...              ...         ...        ...         ...   \n59303 2016-05-20                f  2016-10-13  37.711821 -122.451119   \n95    2017-01-03                f         NaN  38.863534  -76.949223   \n19004 2015-09-25                f  2017-09-24  37.749157 -122.419856   \n34760 2010-07-25                f  2017-09-17  37.778149 -122.436969   \n73394 2012-04-24                f  2017-03-31  34.023177 -118.436905   \n\n                                                    name  \\\n70224                 Gtown/Dupont - Best of both worlds   \n60724                          Private Room in Beach Pad   \n60109                     BROADWAY VIEW APT NEAR COMMONS   \n29534  RH - Budget Friendly room in the Greenpoint Area!   \n23622                     Large Beautiful Victorian Home   \n...                                                  ...   \n59303                Living Spac in a Spacious Penthouse   \n95             Modern Condo in the heart of Capitol Hill   \n19004                 SINGLE FAMILY 2BR/2BA MISSION HOME   \n34760                Alamo Square w King Bed or 2 TwinXL   \n73394                    Splendid Sanctuary in West LA 2   \n\n               neighbourhood  number_of_reviews  review_scores_rating  \\\n70224             Georgetown                  0                   NaN   \n60724           Santa Monica                  4                  90.0   \n60109       Theater District                 17                  88.0   \n29534             Greenpoint                 20                  98.0   \n23622              Edgewater                  0                   NaN   \n...                      ...                ...                   ...   \n59303         Crocker Amazon                  1                 100.0   \n95                 Hillcrest                  0                   NaN   \n19004       Mission District                 18                 100.0   \n34760  Western Addition/NOPA                113                  98.0   \n73394              Mar Vista                  1                  80.0   \n\n                                           thumbnail_url  zipcode  bedrooms  \\\n70224                                                NaN    20007       1.0   \n60724  https://a0.muscache.com/im/pictures/38a15788-1...    90405       1.0   \n60109  https://a0.muscache.com/im/pictures/dc1befe6-1...    02116       0.0   \n29534  https://a0.muscache.com/im/pictures/e7ddd261-e...    11222       1.0   \n23622  https://a0.muscache.com/im/pictures/45804764/d...    60660       1.0   \n...                                                  ...      ...       ...   \n59303  https://a0.muscache.com/im/pictures/d9b92a0a-7...    94112       1.0   \n95     https://a0.muscache.com/im/pictures/59cb2321-0...    20020       1.0   \n19004  https://a0.muscache.com/im/pictures/d64fdfdd-9...    94110       2.0   \n34760  https://a0.muscache.com/im/pictures/64957288/a...  94115.0       1.0   \n73394  https://a0.muscache.com/im/pictures/50be39eb-1...    90066       1.0   \n\n       beds todaysdate ageofhost  \n70224   2.0 2020-07-20 2000 days  \n60724   1.0 2020-07-20 2986 days  \n60109   2.0 2020-07-20 1636 days  \n29534   1.0 2020-07-20 2369 days  \n23622   2.0 2020-07-20 2512 days  \n...     ...        ...       ...  \n59303   1.0 2020-07-20 1522 days  \n95      1.0 2020-07-20 1294 days  \n19004   2.0 2020-07-20 1760 days  \n34760   2.0 2020-07-20 3648 days  \n73394   1.0 2020-07-20 3009 days  \n\n[51877 rows x 31 columns]",
      "text/html": "<div>\n<style scoped>\n    .dataframe tbody tr th:only-of-type {\n        vertical-align: middle;\n    }\n\n    .dataframe tbody tr th {\n        vertical-align: top;\n    }\n\n    .dataframe thead th {\n        text-align: right;\n    }\n</style>\n<table border=\"1\" class=\"dataframe\">\n  <thead>\n    <tr style=\"text-align: right;\">\n      <th></th>\n      <th>id</th>\n      <th>log_price</th>\n      <th>property_type</th>\n      <th>room_type</th>\n      <th>amenities</th>\n      <th>accommodates</th>\n      <th>bathrooms</th>\n      <th>bed_type</th>\n      <th>cancellation_policy</th>\n      <th>cleaning_fee</th>\n      <th>city</th>\n      <th>description</th>\n      <th>first_review</th>\n      <th>host_has_profile_pic</th>\n      <th>host_identity_verified</th>\n      <th>host_response_rate</th>\n      <th>host_since</th>\n      <th>instant_bookable</th>\n      <th>last_review</th>\n      <th>latitude</th>\n      <th>longitude</th>\n      <th>name</th>\n      <th>neighbourhood</th>\n      <th>number_of_reviews</th>\n      <th>review_scores_rating</th>\n      <th>thumbnail_url</th>\n      <th>zipcode</th>\n      <th>bedrooms</th>\n      <th>beds</th>\n      <th>todaysdate</th>\n      <th>ageofhost</th>\n    </tr>\n  </thead>\n  <tbody>\n    <tr>\n      <th>70224</th>\n      <td>16561167</td>\n      <td>5.298317</td>\n      <td>Apartment</td>\n      <td>Entire home/apt</td>\n      <td>{\"Cable TV\",\"Wireless Internet\",\"Air condition...</td>\n      <td>2</td>\n      <td>1.0</td>\n      <td>Real Bed</td>\n      <td>flexible</td>\n      <td>False</td>\n      <td>DC</td>\n      <td>Walkable to Gtown, Dupont, West-end - simply p...</td>\n      <td>NaN</td>\n      <td>f</td>\n      <td>f</td>\n      <td>NaN</td>\n      <td>2015-01-28</td>\n      <td>f</td>\n      <td>NaN</td>\n      <td>38.911262</td>\n      <td>-77.052784</td>\n      <td>Gtown/Dupont - Best of both worlds</td>\n      <td>Georgetown</td>\n      <td>0</td>\n      <td>NaN</td>\n      <td>NaN</td>\n      <td>20007</td>\n      <td>1.0</td>\n      <td>2.0</td>\n      <td>2020-07-20</td>\n      <td>2000 days</td>\n    </tr>\n    <tr>\n      <th>60724</th>\n      <td>20943918</td>\n      <td>4.700480</td>\n      <td>Apartment</td>\n      <td>Private room</td>\n      <td>{TV,\"Cable TV\",Internet,\"Wireless Internet\",Ki...</td>\n      <td>2</td>\n      <td>1.0</td>\n      <td>Real Bed</td>\n      <td>flexible</td>\n      <td>True</td>\n      <td>LA</td>\n      <td>Private bedroom and bath in modern furnished, ...</td>\n      <td>2016-01-01</td>\n      <td>t</td>\n      <td>t</td>\n      <td>100%</td>\n      <td>2012-05-17</td>\n      <td>f</td>\n      <td>2017-04-21</td>\n      <td>34.002413</td>\n      <td>-118.479747</td>\n      <td>Private Room in Beach Pad</td>\n      <td>Santa Monica</td>\n      <td>4</td>\n      <td>90.0</td>\n      <td>https://a0.muscache.com/im/pictures/38a15788-1...</td>\n      <td>90405</td>\n      <td>1.0</td>\n      <td>1.0</td>\n      <td>2020-07-20</td>\n      <td>2986 days</td>\n    </tr>\n    <tr>\n      <th>60109</th>\n      <td>20211217</td>\n      <td>5.187386</td>\n      <td>Apartment</td>\n      <td>Entire home/apt</td>\n      <td>{TV,Internet,\"Wireless Internet\",\"Air conditio...</td>\n      <td>4</td>\n      <td>1.0</td>\n      <td>Real Bed</td>\n      <td>strict</td>\n      <td>True</td>\n      <td>Boston</td>\n      <td>Great size studio over looking Boston's Majest...</td>\n      <td>2017-02-05</td>\n      <td>t</td>\n      <td>f</td>\n      <td>100%</td>\n      <td>2016-01-27</td>\n      <td>f</td>\n      <td>2017-09-23</td>\n      <td>42.350981</td>\n      <td>-71.063903</td>\n      <td>BROADWAY VIEW APT NEAR COMMONS</td>\n      <td>Theater District</td>\n      <td>17</td>\n      <td>88.0</td>\n      <td>https://a0.muscache.com/im/pictures/dc1befe6-1...</td>\n      <td>02116</td>\n      <td>0.0</td>\n      <td>2.0</td>\n      <td>2020-07-20</td>\n      <td>1636 days</td>\n    </tr>\n    <tr>\n      <th>29534</th>\n      <td>19103027</td>\n      <td>3.970292</td>\n      <td>Apartment</td>\n      <td>Private room</td>\n      <td>{Internet,\"Wireless Internet\",\"Air conditionin...</td>\n      <td>1</td>\n      <td>1.0</td>\n      <td>Real Bed</td>\n      <td>strict</td>\n      <td>True</td>\n      <td>NYC</td>\n      <td>This listing is ideal for a solo traveler look...</td>\n      <td>2017-02-17</td>\n      <td>t</td>\n      <td>t</td>\n      <td>95%</td>\n      <td>2014-01-24</td>\n      <td>t</td>\n      <td>2017-09-03</td>\n      <td>40.736429</td>\n      <td>-73.954945</td>\n      <td>RH - Budget Friendly room in the Greenpoint Area!</td>\n      <td>Greenpoint</td>\n      <td>20</td>\n      <td>98.0</td>\n      <td>https://a0.muscache.com/im/pictures/e7ddd261-e...</td>\n      <td>11222</td>\n      <td>1.0</td>\n      <td>1.0</td>\n      <td>2020-07-20</td>\n      <td>2369 days</td>\n    </tr>\n    <tr>\n      <th>23622</th>\n      <td>6716160</td>\n      <td>4.382027</td>\n      <td>House</td>\n      <td>Private room</td>\n      <td>{Internet,\"Wireless Internet\",Kitchen,Heating,...</td>\n      <td>1</td>\n      <td>1.0</td>\n      <td>Real Bed</td>\n      <td>strict</td>\n      <td>True</td>\n      <td>Chicago</td>\n      <td>My home is a 1907 Victorian with lots of rusti...</td>\n      <td>NaN</td>\n      <td>t</td>\n      <td>t</td>\n      <td>100%</td>\n      <td>2013-09-03</td>\n      <td>f</td>\n      <td>NaN</td>\n      <td>41.997834</td>\n      <td>-87.673729</td>\n      <td>Large Beautiful Victorian Home</td>\n      <td>Edgewater</td>\n      <td>0</td>\n      <td>NaN</td>\n      <td>https://a0.muscache.com/im/pictures/45804764/d...</td>\n      <td>60660</td>\n      <td>1.0</td>\n      <td>2.0</td>\n      <td>2020-07-20</td>\n      <td>2512 days</td>\n    </tr>\n    <tr>\n      <th>...</th>\n      <td>...</td>\n      <td>...</td>\n      <td>...</td>\n      <td>...</td>\n      <td>...</td>\n      <td>...</td>\n      <td>...</td>\n      <td>...</td>\n      <td>...</td>\n      <td>...</td>\n      <td>...</td>\n      <td>...</td>\n      <td>...</td>\n      <td>...</td>\n      <td>...</td>\n      <td>...</td>\n      <td>...</td>\n      <td>...</td>\n      <td>...</td>\n      <td>...</td>\n      <td>...</td>\n      <td>...</td>\n      <td>...</td>\n      <td>...</td>\n      <td>...</td>\n      <td>...</td>\n      <td>...</td>\n      <td>...</td>\n      <td>...</td>\n      <td>...</td>\n      <td>...</td>\n    </tr>\n    <tr>\n      <th>59303</th>\n      <td>290058</td>\n      <td>3.912023</td>\n      <td>Apartment</td>\n      <td>Shared room</td>\n      <td>{Internet,\"Wireless Internet\",Kitchen,\"Indoor ...</td>\n      <td>1</td>\n      <td>2.0</td>\n      <td>Real Bed</td>\n      <td>flexible</td>\n      <td>True</td>\n      <td>SF</td>\n      <td>Penthouse Condo (excelsior / outer mission), n...</td>\n      <td>2016-10-13</td>\n      <td>t</td>\n      <td>f</td>\n      <td>100%</td>\n      <td>2016-05-20</td>\n      <td>f</td>\n      <td>2016-10-13</td>\n      <td>37.711821</td>\n      <td>-122.451119</td>\n      <td>Living Spac in a Spacious Penthouse</td>\n      <td>Crocker Amazon</td>\n      <td>1</td>\n      <td>100.0</td>\n      <td>https://a0.muscache.com/im/pictures/d9b92a0a-7...</td>\n      <td>94112</td>\n      <td>1.0</td>\n      <td>1.0</td>\n      <td>2020-07-20</td>\n      <td>1522 days</td>\n    </tr>\n    <tr>\n      <th>95</th>\n      <td>1830541</td>\n      <td>5.393628</td>\n      <td>Condominium</td>\n      <td>Entire home/apt</td>\n      <td>{TV,\"Cable TV\",Internet,\"Wireless Internet\",\"A...</td>\n      <td>3</td>\n      <td>1.0</td>\n      <td>Real Bed</td>\n      <td>flexible</td>\n      <td>True</td>\n      <td>DC</td>\n      <td>Beautiful Condo close to Capitol Building, Whi...</td>\n      <td>NaN</td>\n      <td>t</td>\n      <td>f</td>\n      <td>NaN</td>\n      <td>2017-01-03</td>\n      <td>f</td>\n      <td>NaN</td>\n      <td>38.863534</td>\n      <td>-76.949223</td>\n      <td>Modern Condo in the heart of Capitol Hill</td>\n      <td>Hillcrest</td>\n      <td>0</td>\n      <td>NaN</td>\n      <td>https://a0.muscache.com/im/pictures/59cb2321-0...</td>\n      <td>20020</td>\n      <td>1.0</td>\n      <td>1.0</td>\n      <td>2020-07-20</td>\n      <td>1294 days</td>\n    </tr>\n    <tr>\n      <th>19004</th>\n      <td>34000</td>\n      <td>5.703782</td>\n      <td>House</td>\n      <td>Entire home/apt</td>\n      <td>{TV,Internet,\"Wireless Internet\",Kitchen,\"Indo...</td>\n      <td>4</td>\n      <td>2.0</td>\n      <td>Real Bed</td>\n      <td>strict</td>\n      <td>True</td>\n      <td>SF</td>\n      <td>This 1 story 1 unit building was built in 1911...</td>\n      <td>2016-03-27</td>\n      <td>t</td>\n      <td>t</td>\n      <td>100%</td>\n      <td>2015-09-25</td>\n      <td>f</td>\n      <td>2017-09-24</td>\n      <td>37.749157</td>\n      <td>-122.419856</td>\n      <td>SINGLE FAMILY 2BR/2BA MISSION HOME</td>\n      <td>Mission District</td>\n      <td>18</td>\n      <td>100.0</td>\n      <td>https://a0.muscache.com/im/pictures/d64fdfdd-9...</td>\n      <td>94110</td>\n      <td>2.0</td>\n      <td>2.0</td>\n      <td>2020-07-20</td>\n      <td>1760 days</td>\n    </tr>\n    <tr>\n      <th>34760</th>\n      <td>7341529</td>\n      <td>4.595120</td>\n      <td>House</td>\n      <td>Private room</td>\n      <td>{TV,Internet,\"Wireless Internet\",\"Buzzer/wirel...</td>\n      <td>2</td>\n      <td>1.0</td>\n      <td>Real Bed</td>\n      <td>moderate</td>\n      <td>True</td>\n      <td>SF</td>\n      <td>Located in the Alamo Square neighborhood w/ 95...</td>\n      <td>2014-11-16</td>\n      <td>t</td>\n      <td>t</td>\n      <td>100%</td>\n      <td>2010-07-25</td>\n      <td>f</td>\n      <td>2017-09-17</td>\n      <td>37.778149</td>\n      <td>-122.436969</td>\n      <td>Alamo Square w King Bed or 2 TwinXL</td>\n      <td>Western Addition/NOPA</td>\n      <td>113</td>\n      <td>98.0</td>\n      <td>https://a0.muscache.com/im/pictures/64957288/a...</td>\n      <td>94115.0</td>\n      <td>1.0</td>\n      <td>2.0</td>\n      <td>2020-07-20</td>\n      <td>3648 days</td>\n    </tr>\n    <tr>\n      <th>73394</th>\n      <td>6031195</td>\n      <td>4.094345</td>\n      <td>House</td>\n      <td>Private room</td>\n      <td>{TV,Internet,\"Wireless Internet\",Kitchen,\"Free...</td>\n      <td>1</td>\n      <td>1.0</td>\n      <td>Real Bed</td>\n      <td>flexible</td>\n      <td>True</td>\n      <td>LA</td>\n      <td>SEE LISTING \"SPLENDID SANCTUARY IN WEST LA 1\" ...</td>\n      <td>2017-03-31</td>\n      <td>t</td>\n      <td>t</td>\n      <td>100%</td>\n      <td>2012-04-24</td>\n      <td>f</td>\n      <td>2017-03-31</td>\n      <td>34.023177</td>\n      <td>-118.436905</td>\n      <td>Splendid Sanctuary in West LA 2</td>\n      <td>Mar Vista</td>\n      <td>1</td>\n      <td>80.0</td>\n      <td>https://a0.muscache.com/im/pictures/50be39eb-1...</td>\n      <td>90066</td>\n      <td>1.0</td>\n      <td>1.0</td>\n      <td>2020-07-20</td>\n      <td>3009 days</td>\n    </tr>\n  </tbody>\n</table>\n<p>51877 rows × 31 columns</p>\n</div>"
     },
     "metadata": {},
     "execution_count": 90
    }
   ],
   "source": [
    "Train"
   ]
  },
  {
   "cell_type": "code",
   "execution_count": 91,
   "metadata": {},
   "outputs": [],
   "source": [
    "train, val = train_test_split(df, test_size= 0.3, random_state=911)"
   ]
  },
  {
   "cell_type": "code",
   "execution_count": 92,
   "metadata": {},
   "outputs": [],
   "source": [
    "train['amenities'] = train['amenities'].str.strip('}\"{')\n"
   ]
  },
  {
   "cell_type": "code",
   "execution_count": 93,
   "metadata": {},
   "outputs": [],
   "source": [
    "train['amenities'] = train['amenities'].str.strip('\"')"
   ]
  },
  {
   "cell_type": "code",
   "execution_count": 94,
   "metadata": {},
   "outputs": [],
   "source": [
    "train['amenities'] = train['amenities'].str.replace('\"', '')"
   ]
  },
  {
   "cell_type": "code",
   "execution_count": 95,
   "metadata": {},
   "outputs": [],
   "source": [
    "test = pd.DataFrame(train['amenities'].to_list())"
   ]
  },
  {
   "cell_type": "code",
   "execution_count": 96,
   "metadata": {},
   "outputs": [],
   "source": [
    "\n",
    "def splitDataFrameList(df,target_column,separator):\n",
    "    ''' df = dataframe to split,\n",
    "    target_column = the column containing the values to split\n",
    "    separator = the symbol used to perform the split\n",
    "    returns: a dataframe with each entry for the target column separated, with each element moved into a new row. \n",
    "    The values in the other columns are duplicated across the newly divided rows.\n",
    "    '''\n",
    "    def splitListToRows(row,row_accumulator,target_column,separator):\n",
    "        split_row = row[target_column].split(separator)\n",
    "        for s in split_row:\n",
    "            new_row = row.to_dict()\n",
    "            new_row[target_column] = s\n",
    "            row_accumulator.append(new_row)\n",
    "    new_rows = []\n",
    "    df.apply(splitListToRows,axis=1,args = (new_rows,target_column,separator))\n",
    "    new_df = pd.DataFrame(new_rows)\n",
    "    return new_df"
   ]
  },
  {
   "cell_type": "code",
   "execution_count": 97,
   "metadata": {},
   "outputs": [],
   "source": [
    "new_df = splitDataFrameList(train,'amenities', ',')"
   ]
  },
  {
   "cell_type": "code",
   "execution_count": 98,
   "metadata": {},
   "outputs": [
    {
     "output_type": "execute_result",
     "data": {
      "text/plain": "Wireless Internet                      49903\nKitchen                                47263\nHeating                                46958\nEssentials                             44870\nSmoke detector                         43223\n                                       ...  \nPaid parking off premises                  6\nAir purifier                               5\nRoll-in shower with chair                  3\nGrab-rails for shower and toilet           2\nWide clearance to shower and toilet        1\nName: amenities, Length: 126, dtype: int64"
     },
     "metadata": {},
     "execution_count": 98
    }
   ],
   "source": [
    "new_df['amenities'].value_counts()"
   ]
  },
  {
   "cell_type": "code",
   "execution_count": 99,
   "metadata": {},
   "outputs": [],
   "source": [
    "train['wifi'] = train['amenities'].str.contains('Wireless Internet' or 'Internet')"
   ]
  },
  {
   "cell_type": "code",
   "execution_count": 60,
   "metadata": {},
   "outputs": [
    {
     "output_type": "execute_result",
     "data": {
      "text/plain": "['id',\n 'log_price',\n 'property_type',\n 'room_type',\n 'amenities',\n 'accommodates',\n 'bathrooms',\n 'bed_type',\n 'cancellation_policy',\n 'cleaning_fee',\n 'city',\n 'description',\n 'first_review',\n 'host_has_profile_pic',\n 'host_identity_verified',\n 'host_response_rate',\n 'host_since',\n 'instant_bookable',\n 'last_review',\n 'latitude',\n 'longitude',\n 'name',\n 'neighbourhood',\n 'number_of_reviews',\n 'review_scores_rating',\n 'thumbnail_url',\n 'zipcode',\n 'bedrooms',\n 'beds',\n 'todaysdate',\n 'ageofhost',\n 'wifi']"
     },
     "metadata": {},
     "execution_count": 60
    }
   ],
   "source": [
    "list(train.columns)"
   ]
  },
  {
   "cell_type": "code",
   "execution_count": 86,
   "metadata": {},
   "outputs": [
    {
     "output_type": "error",
     "ename": "ValueError",
     "evalue": "Length mismatch: Expected axis has 41 elements, new values have 32 elements",
     "traceback": [
      "\u001b[0;31m---------------------------------------------------------------------------\u001b[0m",
      "\u001b[0;31mValueError\u001b[0m                                Traceback (most recent call last)",
      "\u001b[0;32m<ipython-input-86-602501e044a6>\u001b[0m in \u001b[0;36m<module>\u001b[0;34m\u001b[0m\n\u001b[1;32m     30\u001b[0m  \u001b[0;34m'todaysdate'\u001b[0m\u001b[0;34m,\u001b[0m\u001b[0;34m\u001b[0m\u001b[0;34m\u001b[0m\u001b[0m\n\u001b[1;32m     31\u001b[0m  \u001b[0;34m'ageofhost'\u001b[0m\u001b[0;34m,\u001b[0m\u001b[0;34m\u001b[0m\u001b[0;34m\u001b[0m\u001b[0m\n\u001b[0;32m---> 32\u001b[0;31m  'wifi']\n\u001b[0m",
      "\u001b[0;32m~/anaconda3/lib/python3.7/site-packages/pandas/core/generic.py\u001b[0m in \u001b[0;36m__setattr__\u001b[0;34m(self, name, value)\u001b[0m\n\u001b[1;32m   5285\u001b[0m         \u001b[0;32mtry\u001b[0m\u001b[0;34m:\u001b[0m\u001b[0;34m\u001b[0m\u001b[0;34m\u001b[0m\u001b[0m\n\u001b[1;32m   5286\u001b[0m             \u001b[0mobject\u001b[0m\u001b[0;34m.\u001b[0m\u001b[0m__getattribute__\u001b[0m\u001b[0;34m(\u001b[0m\u001b[0mself\u001b[0m\u001b[0;34m,\u001b[0m \u001b[0mname\u001b[0m\u001b[0;34m)\u001b[0m\u001b[0;34m\u001b[0m\u001b[0;34m\u001b[0m\u001b[0m\n\u001b[0;32m-> 5287\u001b[0;31m             \u001b[0;32mreturn\u001b[0m \u001b[0mobject\u001b[0m\u001b[0;34m.\u001b[0m\u001b[0m__setattr__\u001b[0m\u001b[0;34m(\u001b[0m\u001b[0mself\u001b[0m\u001b[0;34m,\u001b[0m \u001b[0mname\u001b[0m\u001b[0;34m,\u001b[0m \u001b[0mvalue\u001b[0m\u001b[0;34m)\u001b[0m\u001b[0;34m\u001b[0m\u001b[0;34m\u001b[0m\u001b[0m\n\u001b[0m\u001b[1;32m   5288\u001b[0m         \u001b[0;32mexcept\u001b[0m \u001b[0mAttributeError\u001b[0m\u001b[0;34m:\u001b[0m\u001b[0;34m\u001b[0m\u001b[0;34m\u001b[0m\u001b[0m\n\u001b[1;32m   5289\u001b[0m             \u001b[0;32mpass\u001b[0m\u001b[0;34m\u001b[0m\u001b[0;34m\u001b[0m\u001b[0m\n",
      "\u001b[0;32mpandas/_libs/properties.pyx\u001b[0m in \u001b[0;36mpandas._libs.properties.AxisProperty.__set__\u001b[0;34m()\u001b[0m\n",
      "\u001b[0;32m~/anaconda3/lib/python3.7/site-packages/pandas/core/generic.py\u001b[0m in \u001b[0;36m_set_axis\u001b[0;34m(self, axis, labels)\u001b[0m\n\u001b[1;32m    659\u001b[0m \u001b[0;34m\u001b[0m\u001b[0m\n\u001b[1;32m    660\u001b[0m     \u001b[0;32mdef\u001b[0m \u001b[0m_set_axis\u001b[0m\u001b[0;34m(\u001b[0m\u001b[0mself\u001b[0m\u001b[0;34m,\u001b[0m \u001b[0maxis\u001b[0m\u001b[0;34m,\u001b[0m \u001b[0mlabels\u001b[0m\u001b[0;34m)\u001b[0m \u001b[0;34m->\u001b[0m \u001b[0;32mNone\u001b[0m\u001b[0;34m:\u001b[0m\u001b[0;34m\u001b[0m\u001b[0;34m\u001b[0m\u001b[0m\n\u001b[0;32m--> 661\u001b[0;31m         \u001b[0mself\u001b[0m\u001b[0;34m.\u001b[0m\u001b[0m_data\u001b[0m\u001b[0;34m.\u001b[0m\u001b[0mset_axis\u001b[0m\u001b[0;34m(\u001b[0m\u001b[0maxis\u001b[0m\u001b[0;34m,\u001b[0m \u001b[0mlabels\u001b[0m\u001b[0;34m)\u001b[0m\u001b[0;34m\u001b[0m\u001b[0;34m\u001b[0m\u001b[0m\n\u001b[0m\u001b[1;32m    662\u001b[0m         \u001b[0mself\u001b[0m\u001b[0;34m.\u001b[0m\u001b[0m_clear_item_cache\u001b[0m\u001b[0;34m(\u001b[0m\u001b[0;34m)\u001b[0m\u001b[0;34m\u001b[0m\u001b[0;34m\u001b[0m\u001b[0m\n\u001b[1;32m    663\u001b[0m \u001b[0;34m\u001b[0m\u001b[0m\n",
      "\u001b[0;32m~/anaconda3/lib/python3.7/site-packages/pandas/core/internals/managers.py\u001b[0m in \u001b[0;36mset_axis\u001b[0;34m(self, axis, new_labels)\u001b[0m\n\u001b[1;32m    176\u001b[0m         \u001b[0;32mif\u001b[0m \u001b[0mnew_len\u001b[0m \u001b[0;34m!=\u001b[0m \u001b[0mold_len\u001b[0m\u001b[0;34m:\u001b[0m\u001b[0;34m\u001b[0m\u001b[0;34m\u001b[0m\u001b[0m\n\u001b[1;32m    177\u001b[0m             raise ValueError(\n\u001b[0;32m--> 178\u001b[0;31m                 \u001b[0;34mf\"Length mismatch: Expected axis has {old_len} elements, new \"\u001b[0m\u001b[0;34m\u001b[0m\u001b[0;34m\u001b[0m\u001b[0m\n\u001b[0m\u001b[1;32m    179\u001b[0m                 \u001b[0;34mf\"values have {new_len} elements\"\u001b[0m\u001b[0;34m\u001b[0m\u001b[0;34m\u001b[0m\u001b[0m\n\u001b[1;32m    180\u001b[0m             )\n",
      "\u001b[0;31mValueError\u001b[0m: Length mismatch: Expected axis has 41 elements, new values have 32 elements"
     ]
    }
   ],
   "source": [
    "train.columns = ['id',\n",
    " 'log_price',\n",
    " 'property_type',\n",
    " 'room_type',\n",
    " 'amenities',\n",
    " 'accommodates',\n",
    " 'bathrooms',\n",
    " 'bed_type',\n",
    " 'cancellation_policy',\n",
    " 'cleaning_fee',\n",
    " 'city',\n",
    " 'description',\n",
    " 'first_review',\n",
    " 'host_has_profile_pic',\n",
    " 'host_identity_verified',\n",
    " 'host_response_rate',\n",
    " 'host_since',\n",
    " 'instant_bookable',\n",
    " 'last_review',\n",
    " 'latitude',\n",
    " 'longitude',\n",
    " 'name',\n",
    " 'neighbourhood',\n",
    " 'number_of_reviews',\n",
    " 'review_scores_rating',\n",
    " 'thumbnail_url',\n",
    " 'zipcode',\n",
    " 'bedrooms',\n",
    " 'beds',\n",
    " 'todaysdate',\n",
    " 'ageofhost',\n",
    " 'wifi']"
   ]
  },
  {
   "cell_type": "code",
   "execution_count": 62,
   "metadata": {},
   "outputs": [
    {
     "output_type": "execute_result",
     "data": {
      "text/plain": "             id  log_price property_type        room_type  \\\n70224  16561167   5.298317     Apartment  Entire home/apt   \n60724  20943918   4.700480     Apartment     Private room   \n60109  20211217   5.187386     Apartment  Entire home/apt   \n29534  19103027   3.970292     Apartment     Private room   \n23622   6716160   4.382027         House     Private room   \n...         ...        ...           ...              ...   \n59303    290058   3.912023     Apartment      Shared room   \n95      1830541   5.393628   Condominium  Entire home/apt   \n19004     34000   5.703782         House  Entire home/apt   \n34760   7341529   4.595120         House     Private room   \n73394   6031195   4.094345         House     Private room   \n\n                                               amenities  accommodates  \\\n70224  Cable TV,Wireless Internet,Air conditioning,Ki...             2   \n60724  TV,Cable TV,Internet,Wireless Internet,Kitchen...             2   \n60109  TV,Internet,Wireless Internet,Air conditioning...             4   \n29534  Internet,Wireless Internet,Air conditioning,Ki...             1   \n23622  Internet,Wireless Internet,Kitchen,Heating,Ess...             1   \n...                                                  ...           ...   \n59303  Internet,Wireless Internet,Kitchen,Indoor fire...             1   \n95     TV,Cable TV,Internet,Wireless Internet,Air con...             3   \n19004  TV,Internet,Wireless Internet,Kitchen,Indoor f...             4   \n34760  TV,Internet,Wireless Internet,Buzzer/wireless ...             2   \n73394  TV,Internet,Wireless Internet,Kitchen,Free par...             1   \n\n       bathrooms  bed_type cancellation_policy  cleaning_fee     city  \\\n70224        1.0  Real Bed            flexible         False       DC   \n60724        1.0  Real Bed            flexible          True       LA   \n60109        1.0  Real Bed              strict          True   Boston   \n29534        1.0  Real Bed              strict          True      NYC   \n23622        1.0  Real Bed              strict          True  Chicago   \n...          ...       ...                 ...           ...      ...   \n59303        2.0  Real Bed            flexible          True       SF   \n95           1.0  Real Bed            flexible          True       DC   \n19004        2.0  Real Bed              strict          True       SF   \n34760        1.0  Real Bed            moderate          True       SF   \n73394        1.0  Real Bed            flexible          True       LA   \n\n                                             description first_review  \\\n70224  Walkable to Gtown, Dupont, West-end - simply p...          NaN   \n60724  Private bedroom and bath in modern furnished, ...   2016-01-01   \n60109  Great size studio over looking Boston's Majest...   2017-02-05   \n29534  This listing is ideal for a solo traveler look...   2017-02-17   \n23622  My home is a 1907 Victorian with lots of rusti...          NaN   \n...                                                  ...          ...   \n59303  Penthouse Condo (excelsior / outer mission), n...   2016-10-13   \n95     Beautiful Condo close to Capitol Building, Whi...          NaN   \n19004  This 1 story 1 unit building was built in 1911...   2016-03-27   \n34760  Located in the Alamo Square neighborhood w/ 95...   2014-11-16   \n73394  SEE LISTING \"SPLENDID SANCTUARY IN WEST LA 1\" ...   2017-03-31   \n\n      host_has_profile_pic host_identity_verified host_response_rate  \\\n70224                    f                      f                NaN   \n60724                    t                      t               100%   \n60109                    t                      f               100%   \n29534                    t                      t                95%   \n23622                    t                      t               100%   \n...                    ...                    ...                ...   \n59303                    t                      f               100%   \n95                       t                      f                NaN   \n19004                    t                      t               100%   \n34760                    t                      t               100%   \n73394                    t                      t               100%   \n\n      host_since instant_bookable last_review   latitude   longitude  \\\n70224 2015-01-28                f         NaN  38.911262  -77.052784   \n60724 2012-05-17                f  2017-04-21  34.002413 -118.479747   \n60109 2016-01-27                f  2017-09-23  42.350981  -71.063903   \n29534 2014-01-24                t  2017-09-03  40.736429  -73.954945   \n23622 2013-09-03                f         NaN  41.997834  -87.673729   \n...          ...              ...         ...        ...         ...   \n59303 2016-05-20                f  2016-10-13  37.711821 -122.451119   \n95    2017-01-03                f         NaN  38.863534  -76.949223   \n19004 2015-09-25                f  2017-09-24  37.749157 -122.419856   \n34760 2010-07-25                f  2017-09-17  37.778149 -122.436969   \n73394 2012-04-24                f  2017-03-31  34.023177 -118.436905   \n\n                                                    name  \\\n70224                 Gtown/Dupont - Best of both worlds   \n60724                          Private Room in Beach Pad   \n60109                     BROADWAY VIEW APT NEAR COMMONS   \n29534  RH - Budget Friendly room in the Greenpoint Area!   \n23622                     Large Beautiful Victorian Home   \n...                                                  ...   \n59303                Living Spac in a Spacious Penthouse   \n95             Modern Condo in the heart of Capitol Hill   \n19004                 SINGLE FAMILY 2BR/2BA MISSION HOME   \n34760                Alamo Square w King Bed or 2 TwinXL   \n73394                    Splendid Sanctuary in West LA 2   \n\n               neighbourhood  number_of_reviews  review_scores_rating  \\\n70224             Georgetown                  0                   NaN   \n60724           Santa Monica                  4                  90.0   \n60109       Theater District                 17                  88.0   \n29534             Greenpoint                 20                  98.0   \n23622              Edgewater                  0                   NaN   \n...                      ...                ...                   ...   \n59303         Crocker Amazon                  1                 100.0   \n95                 Hillcrest                  0                   NaN   \n19004       Mission District                 18                 100.0   \n34760  Western Addition/NOPA                113                  98.0   \n73394              Mar Vista                  1                  80.0   \n\n                                           thumbnail_url  zipcode  bedrooms  \\\n70224                                                NaN    20007       1.0   \n60724  https://a0.muscache.com/im/pictures/38a15788-1...    90405       1.0   \n60109  https://a0.muscache.com/im/pictures/dc1befe6-1...    02116       0.0   \n29534  https://a0.muscache.com/im/pictures/e7ddd261-e...    11222       1.0   \n23622  https://a0.muscache.com/im/pictures/45804764/d...    60660       1.0   \n...                                                  ...      ...       ...   \n59303  https://a0.muscache.com/im/pictures/d9b92a0a-7...    94112       1.0   \n95     https://a0.muscache.com/im/pictures/59cb2321-0...    20020       1.0   \n19004  https://a0.muscache.com/im/pictures/d64fdfdd-9...    94110       2.0   \n34760  https://a0.muscache.com/im/pictures/64957288/a...  94115.0       1.0   \n73394  https://a0.muscache.com/im/pictures/50be39eb-1...    90066       1.0   \n\n       beds todaysdate ageofhost  wifi  \n70224   2.0 2020-07-20 2000 days  True  \n60724   1.0 2020-07-20 2986 days  True  \n60109   2.0 2020-07-20 1636 days  True  \n29534   1.0 2020-07-20 2369 days  True  \n23622   2.0 2020-07-20 2512 days  True  \n...     ...        ...       ...   ...  \n59303   1.0 2020-07-20 1522 days  True  \n95      1.0 2020-07-20 1294 days  True  \n19004   2.0 2020-07-20 1760 days  True  \n34760   2.0 2020-07-20 3648 days  True  \n73394   1.0 2020-07-20 3009 days  True  \n\n[51877 rows x 32 columns]",
      "text/html": "<div>\n<style scoped>\n    .dataframe tbody tr th:only-of-type {\n        vertical-align: middle;\n    }\n\n    .dataframe tbody tr th {\n        vertical-align: top;\n    }\n\n    .dataframe thead th {\n        text-align: right;\n    }\n</style>\n<table border=\"1\" class=\"dataframe\">\n  <thead>\n    <tr style=\"text-align: right;\">\n      <th></th>\n      <th>id</th>\n      <th>log_price</th>\n      <th>property_type</th>\n      <th>room_type</th>\n      <th>amenities</th>\n      <th>accommodates</th>\n      <th>bathrooms</th>\n      <th>bed_type</th>\n      <th>cancellation_policy</th>\n      <th>cleaning_fee</th>\n      <th>city</th>\n      <th>description</th>\n      <th>first_review</th>\n      <th>host_has_profile_pic</th>\n      <th>host_identity_verified</th>\n      <th>host_response_rate</th>\n      <th>host_since</th>\n      <th>instant_bookable</th>\n      <th>last_review</th>\n      <th>latitude</th>\n      <th>longitude</th>\n      <th>name</th>\n      <th>neighbourhood</th>\n      <th>number_of_reviews</th>\n      <th>review_scores_rating</th>\n      <th>thumbnail_url</th>\n      <th>zipcode</th>\n      <th>bedrooms</th>\n      <th>beds</th>\n      <th>todaysdate</th>\n      <th>ageofhost</th>\n      <th>wifi</th>\n    </tr>\n  </thead>\n  <tbody>\n    <tr>\n      <th>70224</th>\n      <td>16561167</td>\n      <td>5.298317</td>\n      <td>Apartment</td>\n      <td>Entire home/apt</td>\n      <td>Cable TV,Wireless Internet,Air conditioning,Ki...</td>\n      <td>2</td>\n      <td>1.0</td>\n      <td>Real Bed</td>\n      <td>flexible</td>\n      <td>False</td>\n      <td>DC</td>\n      <td>Walkable to Gtown, Dupont, West-end - simply p...</td>\n      <td>NaN</td>\n      <td>f</td>\n      <td>f</td>\n      <td>NaN</td>\n      <td>2015-01-28</td>\n      <td>f</td>\n      <td>NaN</td>\n      <td>38.911262</td>\n      <td>-77.052784</td>\n      <td>Gtown/Dupont - Best of both worlds</td>\n      <td>Georgetown</td>\n      <td>0</td>\n      <td>NaN</td>\n      <td>NaN</td>\n      <td>20007</td>\n      <td>1.0</td>\n      <td>2.0</td>\n      <td>2020-07-20</td>\n      <td>2000 days</td>\n      <td>True</td>\n    </tr>\n    <tr>\n      <th>60724</th>\n      <td>20943918</td>\n      <td>4.700480</td>\n      <td>Apartment</td>\n      <td>Private room</td>\n      <td>TV,Cable TV,Internet,Wireless Internet,Kitchen...</td>\n      <td>2</td>\n      <td>1.0</td>\n      <td>Real Bed</td>\n      <td>flexible</td>\n      <td>True</td>\n      <td>LA</td>\n      <td>Private bedroom and bath in modern furnished, ...</td>\n      <td>2016-01-01</td>\n      <td>t</td>\n      <td>t</td>\n      <td>100%</td>\n      <td>2012-05-17</td>\n      <td>f</td>\n      <td>2017-04-21</td>\n      <td>34.002413</td>\n      <td>-118.479747</td>\n      <td>Private Room in Beach Pad</td>\n      <td>Santa Monica</td>\n      <td>4</td>\n      <td>90.0</td>\n      <td>https://a0.muscache.com/im/pictures/38a15788-1...</td>\n      <td>90405</td>\n      <td>1.0</td>\n      <td>1.0</td>\n      <td>2020-07-20</td>\n      <td>2986 days</td>\n      <td>True</td>\n    </tr>\n    <tr>\n      <th>60109</th>\n      <td>20211217</td>\n      <td>5.187386</td>\n      <td>Apartment</td>\n      <td>Entire home/apt</td>\n      <td>TV,Internet,Wireless Internet,Air conditioning...</td>\n      <td>4</td>\n      <td>1.0</td>\n      <td>Real Bed</td>\n      <td>strict</td>\n      <td>True</td>\n      <td>Boston</td>\n      <td>Great size studio over looking Boston's Majest...</td>\n      <td>2017-02-05</td>\n      <td>t</td>\n      <td>f</td>\n      <td>100%</td>\n      <td>2016-01-27</td>\n      <td>f</td>\n      <td>2017-09-23</td>\n      <td>42.350981</td>\n      <td>-71.063903</td>\n      <td>BROADWAY VIEW APT NEAR COMMONS</td>\n      <td>Theater District</td>\n      <td>17</td>\n      <td>88.0</td>\n      <td>https://a0.muscache.com/im/pictures/dc1befe6-1...</td>\n      <td>02116</td>\n      <td>0.0</td>\n      <td>2.0</td>\n      <td>2020-07-20</td>\n      <td>1636 days</td>\n      <td>True</td>\n    </tr>\n    <tr>\n      <th>29534</th>\n      <td>19103027</td>\n      <td>3.970292</td>\n      <td>Apartment</td>\n      <td>Private room</td>\n      <td>Internet,Wireless Internet,Air conditioning,Ki...</td>\n      <td>1</td>\n      <td>1.0</td>\n      <td>Real Bed</td>\n      <td>strict</td>\n      <td>True</td>\n      <td>NYC</td>\n      <td>This listing is ideal for a solo traveler look...</td>\n      <td>2017-02-17</td>\n      <td>t</td>\n      <td>t</td>\n      <td>95%</td>\n      <td>2014-01-24</td>\n      <td>t</td>\n      <td>2017-09-03</td>\n      <td>40.736429</td>\n      <td>-73.954945</td>\n      <td>RH - Budget Friendly room in the Greenpoint Area!</td>\n      <td>Greenpoint</td>\n      <td>20</td>\n      <td>98.0</td>\n      <td>https://a0.muscache.com/im/pictures/e7ddd261-e...</td>\n      <td>11222</td>\n      <td>1.0</td>\n      <td>1.0</td>\n      <td>2020-07-20</td>\n      <td>2369 days</td>\n      <td>True</td>\n    </tr>\n    <tr>\n      <th>23622</th>\n      <td>6716160</td>\n      <td>4.382027</td>\n      <td>House</td>\n      <td>Private room</td>\n      <td>Internet,Wireless Internet,Kitchen,Heating,Ess...</td>\n      <td>1</td>\n      <td>1.0</td>\n      <td>Real Bed</td>\n      <td>strict</td>\n      <td>True</td>\n      <td>Chicago</td>\n      <td>My home is a 1907 Victorian with lots of rusti...</td>\n      <td>NaN</td>\n      <td>t</td>\n      <td>t</td>\n      <td>100%</td>\n      <td>2013-09-03</td>\n      <td>f</td>\n      <td>NaN</td>\n      <td>41.997834</td>\n      <td>-87.673729</td>\n      <td>Large Beautiful Victorian Home</td>\n      <td>Edgewater</td>\n      <td>0</td>\n      <td>NaN</td>\n      <td>https://a0.muscache.com/im/pictures/45804764/d...</td>\n      <td>60660</td>\n      <td>1.0</td>\n      <td>2.0</td>\n      <td>2020-07-20</td>\n      <td>2512 days</td>\n      <td>True</td>\n    </tr>\n    <tr>\n      <th>...</th>\n      <td>...</td>\n      <td>...</td>\n      <td>...</td>\n      <td>...</td>\n      <td>...</td>\n      <td>...</td>\n      <td>...</td>\n      <td>...</td>\n      <td>...</td>\n      <td>...</td>\n      <td>...</td>\n      <td>...</td>\n      <td>...</td>\n      <td>...</td>\n      <td>...</td>\n      <td>...</td>\n      <td>...</td>\n      <td>...</td>\n      <td>...</td>\n      <td>...</td>\n      <td>...</td>\n      <td>...</td>\n      <td>...</td>\n      <td>...</td>\n      <td>...</td>\n      <td>...</td>\n      <td>...</td>\n      <td>...</td>\n      <td>...</td>\n      <td>...</td>\n      <td>...</td>\n      <td>...</td>\n    </tr>\n    <tr>\n      <th>59303</th>\n      <td>290058</td>\n      <td>3.912023</td>\n      <td>Apartment</td>\n      <td>Shared room</td>\n      <td>Internet,Wireless Internet,Kitchen,Indoor fire...</td>\n      <td>1</td>\n      <td>2.0</td>\n      <td>Real Bed</td>\n      <td>flexible</td>\n      <td>True</td>\n      <td>SF</td>\n      <td>Penthouse Condo (excelsior / outer mission), n...</td>\n      <td>2016-10-13</td>\n      <td>t</td>\n      <td>f</td>\n      <td>100%</td>\n      <td>2016-05-20</td>\n      <td>f</td>\n      <td>2016-10-13</td>\n      <td>37.711821</td>\n      <td>-122.451119</td>\n      <td>Living Spac in a Spacious Penthouse</td>\n      <td>Crocker Amazon</td>\n      <td>1</td>\n      <td>100.0</td>\n      <td>https://a0.muscache.com/im/pictures/d9b92a0a-7...</td>\n      <td>94112</td>\n      <td>1.0</td>\n      <td>1.0</td>\n      <td>2020-07-20</td>\n      <td>1522 days</td>\n      <td>True</td>\n    </tr>\n    <tr>\n      <th>95</th>\n      <td>1830541</td>\n      <td>5.393628</td>\n      <td>Condominium</td>\n      <td>Entire home/apt</td>\n      <td>TV,Cable TV,Internet,Wireless Internet,Air con...</td>\n      <td>3</td>\n      <td>1.0</td>\n      <td>Real Bed</td>\n      <td>flexible</td>\n      <td>True</td>\n      <td>DC</td>\n      <td>Beautiful Condo close to Capitol Building, Whi...</td>\n      <td>NaN</td>\n      <td>t</td>\n      <td>f</td>\n      <td>NaN</td>\n      <td>2017-01-03</td>\n      <td>f</td>\n      <td>NaN</td>\n      <td>38.863534</td>\n      <td>-76.949223</td>\n      <td>Modern Condo in the heart of Capitol Hill</td>\n      <td>Hillcrest</td>\n      <td>0</td>\n      <td>NaN</td>\n      <td>https://a0.muscache.com/im/pictures/59cb2321-0...</td>\n      <td>20020</td>\n      <td>1.0</td>\n      <td>1.0</td>\n      <td>2020-07-20</td>\n      <td>1294 days</td>\n      <td>True</td>\n    </tr>\n    <tr>\n      <th>19004</th>\n      <td>34000</td>\n      <td>5.703782</td>\n      <td>House</td>\n      <td>Entire home/apt</td>\n      <td>TV,Internet,Wireless Internet,Kitchen,Indoor f...</td>\n      <td>4</td>\n      <td>2.0</td>\n      <td>Real Bed</td>\n      <td>strict</td>\n      <td>True</td>\n      <td>SF</td>\n      <td>This 1 story 1 unit building was built in 1911...</td>\n      <td>2016-03-27</td>\n      <td>t</td>\n      <td>t</td>\n      <td>100%</td>\n      <td>2015-09-25</td>\n      <td>f</td>\n      <td>2017-09-24</td>\n      <td>37.749157</td>\n      <td>-122.419856</td>\n      <td>SINGLE FAMILY 2BR/2BA MISSION HOME</td>\n      <td>Mission District</td>\n      <td>18</td>\n      <td>100.0</td>\n      <td>https://a0.muscache.com/im/pictures/d64fdfdd-9...</td>\n      <td>94110</td>\n      <td>2.0</td>\n      <td>2.0</td>\n      <td>2020-07-20</td>\n      <td>1760 days</td>\n      <td>True</td>\n    </tr>\n    <tr>\n      <th>34760</th>\n      <td>7341529</td>\n      <td>4.595120</td>\n      <td>House</td>\n      <td>Private room</td>\n      <td>TV,Internet,Wireless Internet,Buzzer/wireless ...</td>\n      <td>2</td>\n      <td>1.0</td>\n      <td>Real Bed</td>\n      <td>moderate</td>\n      <td>True</td>\n      <td>SF</td>\n      <td>Located in the Alamo Square neighborhood w/ 95...</td>\n      <td>2014-11-16</td>\n      <td>t</td>\n      <td>t</td>\n      <td>100%</td>\n      <td>2010-07-25</td>\n      <td>f</td>\n      <td>2017-09-17</td>\n      <td>37.778149</td>\n      <td>-122.436969</td>\n      <td>Alamo Square w King Bed or 2 TwinXL</td>\n      <td>Western Addition/NOPA</td>\n      <td>113</td>\n      <td>98.0</td>\n      <td>https://a0.muscache.com/im/pictures/64957288/a...</td>\n      <td>94115.0</td>\n      <td>1.0</td>\n      <td>2.0</td>\n      <td>2020-07-20</td>\n      <td>3648 days</td>\n      <td>True</td>\n    </tr>\n    <tr>\n      <th>73394</th>\n      <td>6031195</td>\n      <td>4.094345</td>\n      <td>House</td>\n      <td>Private room</td>\n      <td>TV,Internet,Wireless Internet,Kitchen,Free par...</td>\n      <td>1</td>\n      <td>1.0</td>\n      <td>Real Bed</td>\n      <td>flexible</td>\n      <td>True</td>\n      <td>LA</td>\n      <td>SEE LISTING \"SPLENDID SANCTUARY IN WEST LA 1\" ...</td>\n      <td>2017-03-31</td>\n      <td>t</td>\n      <td>t</td>\n      <td>100%</td>\n      <td>2012-04-24</td>\n      <td>f</td>\n      <td>2017-03-31</td>\n      <td>34.023177</td>\n      <td>-118.436905</td>\n      <td>Splendid Sanctuary in West LA 2</td>\n      <td>Mar Vista</td>\n      <td>1</td>\n      <td>80.0</td>\n      <td>https://a0.muscache.com/im/pictures/50be39eb-1...</td>\n      <td>90066</td>\n      <td>1.0</td>\n      <td>1.0</td>\n      <td>2020-07-20</td>\n      <td>3009 days</td>\n      <td>True</td>\n    </tr>\n  </tbody>\n</table>\n<p>51877 rows × 32 columns</p>\n</div>"
     },
     "metadata": {},
     "execution_count": 62
    }
   ],
   "source": [
    "train"
   ]
  },
  {
   "cell_type": "code",
   "execution_count": 104,
   "metadata": {},
   "outputs": [],
   "source": [
    "train['kitchen'] = train['amenities'].str.contains('Kitchen')\n",
    "train['AC'] = train['amenities'].str.contains('Air conditioning')\n",
    "train['TV'] = train['amenities'].str.contains('TV')\n",
    "train['Washer'] = train['amenities'].str.contains('Washer')\n",
    "train['Dryer'] = train['amenities'].str.contains('Dryer')\n",
    "train['PetsFriendly'] = train['amenities'].str.contains('Pets allowed')\n",
    "train['Parking'] = train['amenities'].str.contains('parking')\n",
    "train['EssentialAdmenities'] = train['amenities'].str.contains('Essentials')"
   ]
  },
  {
   "cell_type": "code",
   "execution_count": 105,
   "metadata": {},
   "outputs": [
    {
     "output_type": "execute_result",
     "data": {
      "text/plain": "Apartment      34289\nHouse          11564\nOther           2072\nCondominium     1882\nTownhouse       1198\nLoft             872\nName: property_type, dtype: int64"
     },
     "metadata": {},
     "execution_count": 105
    }
   ],
   "source": [
    "train['property_type'].value_counts()[:6]"
   ]
  },
  {
   "cell_type": "code",
   "execution_count": 106,
   "metadata": {},
   "outputs": [],
   "source": [
    "need = train['property_type'].value_counts().index[:6]"
   ]
  },
  {
   "cell_type": "code",
   "execution_count": 107,
   "metadata": {},
   "outputs": [],
   "source": [
    "train['property_type'] = np.where(train['property_type'].isin(need), train['property_type'], 'Other')"
   ]
  },
  {
   "cell_type": "code",
   "execution_count": 108,
   "metadata": {},
   "outputs": [
    {
     "output_type": "execute_result",
     "data": {
      "text/plain": "Apartment      34289\nHouse          11564\nOther           2072\nCondominium     1882\nTownhouse       1198\nLoft             872\nName: property_type, dtype: int64"
     },
     "metadata": {},
     "execution_count": 108
    }
   ],
   "source": [
    "train['property_type'].value_counts()"
   ]
  },
  {
   "cell_type": "code",
   "execution_count": 109,
   "metadata": {},
   "outputs": [
    {
     "output_type": "execute_result",
     "data": {
      "text/plain": "Entire home/apt    28941\nPrivate room       21397\nShared room         1539\nName: room_type, dtype: int64"
     },
     "metadata": {},
     "execution_count": 109
    }
   ],
   "source": [
    "train['room_type'].value_counts()"
   ]
  },
  {
   "cell_type": "code",
   "execution_count": 110,
   "metadata": {},
   "outputs": [
    {
     "output_type": "execute_result",
     "data": {
      "text/plain": "Real Bed         50442\nFuton              529\nPull-out Sofa      393\nAirbed             329\nCouch              184\nName: bed_type, dtype: int64"
     },
     "metadata": {},
     "execution_count": 110
    }
   ],
   "source": [
    "train['bed_type'].value_counts()"
   ]
  },
  {
   "cell_type": "code",
   "execution_count": 111,
   "metadata": {},
   "outputs": [
    {
     "output_type": "execute_result",
     "data": {
      "text/plain": "strict             22704\nflexible           15769\nmoderate           13316\nsuper_strict_30       77\nsuper_strict_60       11\nName: cancellation_policy, dtype: int64"
     },
     "metadata": {},
     "execution_count": 111
    }
   ],
   "source": [
    "train['cancellation_policy'].value_counts()\n"
   ]
  },
  {
   "cell_type": "code",
   "execution_count": 112,
   "metadata": {},
   "outputs": [],
   "source": [
    "need = train['cancellation_policy'].value_counts().index[:3]\n",
    "train['cancellation_policy'] = np.where(train['cancellation_policy'].isin(need), train['cancellation_policy'], 'strict')"
   ]
  },
  {
   "cell_type": "code",
   "execution_count": 113,
   "metadata": {},
   "outputs": [
    {
     "output_type": "execute_result",
     "data": {
      "text/plain": "strict      22792\nflexible    15769\nmoderate    13316\nName: cancellation_policy, dtype: int64"
     },
     "metadata": {},
     "execution_count": 113
    }
   ],
   "source": [
    "train['cancellation_policy'].value_counts()"
   ]
  },
  {
   "cell_type": "code",
   "execution_count": 114,
   "metadata": {},
   "outputs": [
    {
     "output_type": "execute_result",
     "data": {
      "text/plain": "NYC        22516\nLA         15787\nSF          4525\nDC          4019\nChicago     2606\nBoston      2424\nName: city, dtype: int64"
     },
     "metadata": {},
     "execution_count": 114
    }
   ],
   "source": [
    "train['city'].value_counts()"
   ]
  },
  {
   "cell_type": "code",
   "execution_count": 115,
   "metadata": {},
   "outputs": [],
   "source": [
    "train['Description_Len'] = train['description'].str.len()"
   ]
  },
  {
   "cell_type": "code",
   "execution_count": 116,
   "metadata": {},
   "outputs": [
    {
     "output_type": "execute_result",
     "data": {
      "text/plain": "70224    f\n60724    f\n60109    f\n29534    t\n23622    f\n        ..\n59303    f\n95       f\n19004    f\n34760    f\n73394    f\nName: instant_bookable, Length: 51877, dtype: object"
     },
     "metadata": {},
     "execution_count": 116
    }
   ],
   "source": [
    "train['instant_bookable']"
   ]
  },
  {
   "cell_type": "code",
   "execution_count": 134,
   "metadata": {},
   "outputs": [],
   "source": [
    "df_clean = df.copy()"
   ]
  },
  {
   "cell_type": "code",
   "execution_count": 135,
   "metadata": {},
   "outputs": [
    {
     "output_type": "execute_result",
     "data": {
      "text/plain": "             id  log_price property_type        room_type  \\\n0       6901257   5.010635     Apartment  Entire home/apt   \n1       6304928   5.129899     Apartment  Entire home/apt   \n2       7919400   4.976734     Apartment  Entire home/apt   \n3      13418779   6.620073         House  Entire home/apt   \n4       3808709   4.744932     Apartment  Entire home/apt   \n...         ...        ...           ...              ...   \n74106  14549287   4.605170     Apartment     Private room   \n74107  13281809   5.043425     Apartment  Entire home/apt   \n74108  18688039   5.220356     Apartment  Entire home/apt   \n74109  17045948   5.273000     Apartment  Entire home/apt   \n74110   3534845   4.852030          Boat  Entire home/apt   \n\n                                               amenities  accommodates  \\\n0      {\"Wireless Internet\",\"Air conditioning\",Kitche...             3   \n1      {\"Wireless Internet\",\"Air conditioning\",Kitche...             7   \n2      {TV,\"Cable TV\",\"Wireless Internet\",\"Air condit...             5   \n3      {TV,\"Cable TV\",Internet,\"Wireless Internet\",Ki...             4   \n4      {TV,Internet,\"Wireless Internet\",\"Air conditio...             2   \n...                                                  ...           ...   \n74106                                                 {}             1   \n74107  {TV,\"Cable TV\",Internet,\"Wireless Internet\",Ki...             4   \n74108  {TV,Internet,\"Wireless Internet\",\"Air conditio...             5   \n74109  {TV,\"Wireless Internet\",\"Air conditioning\",Kit...             2   \n74110  {TV,Internet,\"Wireless Internet\",Kitchen,\"Free...             4   \n\n       bathrooms  bed_type cancellation_policy  cleaning_fee city  \\\n0            1.0  Real Bed              strict          True  NYC   \n1            1.0  Real Bed              strict          True  NYC   \n2            1.0  Real Bed            moderate          True  NYC   \n3            1.0  Real Bed            flexible          True   SF   \n4            1.0  Real Bed            moderate          True   DC   \n...          ...       ...                 ...           ...  ...   \n74106        1.0  Real Bed            flexible         False  NYC   \n74107        2.0  Real Bed            moderate          True   LA   \n74108        1.0  Real Bed            moderate          True  NYC   \n74109        1.0  Real Bed              strict          True  NYC   \n74110        1.0  Real Bed            moderate         False   LA   \n\n                                             description first_review  \\\n0      Beautiful, sunlit brownstone 1-bedroom in the ...   2016-06-18   \n1      Enjoy travelling during your stay in Manhattan...   2017-08-05   \n2      The Oasis comes complete with a full backyard ...   2017-04-30   \n3      This light-filled home-away-from-home is super...          NaN   \n4      Cool, cozy, and comfortable studio located in ...   2015-05-12   \n...                                                  ...          ...   \n74106                          one room in bushwick apt           NaN   \n74107  Located on the Pacific Coast Highway, this apa...   2016-08-15   \n74108  A modern apartment located in East Williamsbur...   2015-01-03   \n74109  Fully renovated, designer's studio located in ...          NaN   \n74110  You will stay-aboard the Island Trader at one ...   2013-09-05   \n\n      host_has_profile_pic host_identity_verified host_response_rate  \\\n0                        t                      t                NaN   \n1                        t                      f               100%   \n2                        t                      t               100%   \n3                        t                      t                NaN   \n4                        t                      t               100%   \n...                    ...                    ...                ...   \n74106                    t                      t                NaN   \n74107                    t                      f               100%   \n74108                    t                      t               100%   \n74109                    t                      f               100%   \n74110                    t                      t               100%   \n\n      host_since instant_bookable last_review   latitude   longitude  \\\n0     2012-03-26                f  2016-07-18  40.696524  -73.991617   \n1     2017-06-19                t  2017-09-23  40.766115  -73.989040   \n2     2016-10-25                t  2017-09-14  40.808110  -73.943756   \n3     2015-04-19                f         NaN  37.772004 -122.431619   \n4     2015-03-01                t  2017-01-22  38.925627  -77.034596   \n...          ...              ...         ...        ...         ...   \n74106 2013-03-24                f         NaN  40.709025  -73.939405   \n74107 2016-05-03                f  2017-04-15  33.871549 -118.396053   \n74108 2012-01-05                t  2017-09-10  40.706749  -73.942377   \n74109 2017-09-17                t         NaN  40.738535  -74.000157   \n74110 2012-11-26                f  2017-04-30  33.761096 -118.192409   \n\n                                             name     neighbourhood  \\\n0                  Beautiful brownstone 1-bedroom  Brooklyn Heights   \n1        Superb 3BR Apt Located Near Times Square    Hell's Kitchen   \n2                                The Garden Oasis            Harlem   \n3              Beautiful Flat in the Heart of SF!      Lower Haight   \n4                      Great studio in midtown DC  Columbia Heights   \n...                                           ...               ...   \n74106                           one room bushwick      Williamsburg   \n74107                Spacious Hermosa 2 BR on PCH     Hermosa Beach   \n74108  Modern 2 Bedroom Apartment in Williamsburg      Williamsburg   \n74109        Designer's Apartment in HEART of NYC      West Village   \n74110              Cozy Boat at Shoreline Village        Long Beach   \n\n       number_of_reviews  review_scores_rating  \\\n0                      2                 100.0   \n1                      6                  93.0   \n2                     10                  92.0   \n3                      0                   NaN   \n4                      4                  40.0   \n...                  ...                   ...   \n74106                  0                   NaN   \n74107                 16                  93.0   \n74108                 43                  94.0   \n74109                  0                   NaN   \n74110                205                  96.0   \n\n                                           thumbnail_url  zipcode  bedrooms  \\\n0      https://a0.muscache.com/im/pictures/6d7cbbf7-c...    11201       1.0   \n1      https://a0.muscache.com/im/pictures/348a55fe-4...    10019       3.0   \n2      https://a0.muscache.com/im/pictures/6fae5362-9...    10027       1.0   \n3      https://a0.muscache.com/im/pictures/72208dad-9...  94117.0       2.0   \n4                                                    NaN    20009       0.0   \n...                                                  ...      ...       ...   \n74106  https://a0.muscache.com/im/pictures/55162426/6...  11206.0       1.0   \n74107  https://a0.muscache.com/im/pictures/2b86560b-a...    90254       2.0   \n74108  https://a0.muscache.com/im/pictures/7fbe448c-5...  11206.0       2.0   \n74109  https://a0.muscache.com/im/pictures/b3971b63-0...    10011       0.0   \n74110  https://a0.muscache.com/im/pictures/22968537/d...    90802       1.0   \n\n       beds todaysdate ageofhost  \n0       1.0 2020-07-20 3038 days  \n1       3.0 2020-07-20 1127 days  \n2       3.0 2020-07-20 1364 days  \n3       2.0 2020-07-20 1919 days  \n4       1.0 2020-07-20 1968 days  \n...     ...        ...       ...  \n74106   1.0 2020-07-20 2675 days  \n74107   4.0 2020-07-20 1539 days  \n74108   2.0 2020-07-20 3119 days  \n74109   2.0 2020-07-20 1037 days  \n74110   2.0 2020-07-20 2793 days  \n\n[74111 rows x 31 columns]",
      "text/html": "<div>\n<style scoped>\n    .dataframe tbody tr th:only-of-type {\n        vertical-align: middle;\n    }\n\n    .dataframe tbody tr th {\n        vertical-align: top;\n    }\n\n    .dataframe thead th {\n        text-align: right;\n    }\n</style>\n<table border=\"1\" class=\"dataframe\">\n  <thead>\n    <tr style=\"text-align: right;\">\n      <th></th>\n      <th>id</th>\n      <th>log_price</th>\n      <th>property_type</th>\n      <th>room_type</th>\n      <th>amenities</th>\n      <th>accommodates</th>\n      <th>bathrooms</th>\n      <th>bed_type</th>\n      <th>cancellation_policy</th>\n      <th>cleaning_fee</th>\n      <th>city</th>\n      <th>description</th>\n      <th>first_review</th>\n      <th>host_has_profile_pic</th>\n      <th>host_identity_verified</th>\n      <th>host_response_rate</th>\n      <th>host_since</th>\n      <th>instant_bookable</th>\n      <th>last_review</th>\n      <th>latitude</th>\n      <th>longitude</th>\n      <th>name</th>\n      <th>neighbourhood</th>\n      <th>number_of_reviews</th>\n      <th>review_scores_rating</th>\n      <th>thumbnail_url</th>\n      <th>zipcode</th>\n      <th>bedrooms</th>\n      <th>beds</th>\n      <th>todaysdate</th>\n      <th>ageofhost</th>\n    </tr>\n  </thead>\n  <tbody>\n    <tr>\n      <th>0</th>\n      <td>6901257</td>\n      <td>5.010635</td>\n      <td>Apartment</td>\n      <td>Entire home/apt</td>\n      <td>{\"Wireless Internet\",\"Air conditioning\",Kitche...</td>\n      <td>3</td>\n      <td>1.0</td>\n      <td>Real Bed</td>\n      <td>strict</td>\n      <td>True</td>\n      <td>NYC</td>\n      <td>Beautiful, sunlit brownstone 1-bedroom in the ...</td>\n      <td>2016-06-18</td>\n      <td>t</td>\n      <td>t</td>\n      <td>NaN</td>\n      <td>2012-03-26</td>\n      <td>f</td>\n      <td>2016-07-18</td>\n      <td>40.696524</td>\n      <td>-73.991617</td>\n      <td>Beautiful brownstone 1-bedroom</td>\n      <td>Brooklyn Heights</td>\n      <td>2</td>\n      <td>100.0</td>\n      <td>https://a0.muscache.com/im/pictures/6d7cbbf7-c...</td>\n      <td>11201</td>\n      <td>1.0</td>\n      <td>1.0</td>\n      <td>2020-07-20</td>\n      <td>3038 days</td>\n    </tr>\n    <tr>\n      <th>1</th>\n      <td>6304928</td>\n      <td>5.129899</td>\n      <td>Apartment</td>\n      <td>Entire home/apt</td>\n      <td>{\"Wireless Internet\",\"Air conditioning\",Kitche...</td>\n      <td>7</td>\n      <td>1.0</td>\n      <td>Real Bed</td>\n      <td>strict</td>\n      <td>True</td>\n      <td>NYC</td>\n      <td>Enjoy travelling during your stay in Manhattan...</td>\n      <td>2017-08-05</td>\n      <td>t</td>\n      <td>f</td>\n      <td>100%</td>\n      <td>2017-06-19</td>\n      <td>t</td>\n      <td>2017-09-23</td>\n      <td>40.766115</td>\n      <td>-73.989040</td>\n      <td>Superb 3BR Apt Located Near Times Square</td>\n      <td>Hell's Kitchen</td>\n      <td>6</td>\n      <td>93.0</td>\n      <td>https://a0.muscache.com/im/pictures/348a55fe-4...</td>\n      <td>10019</td>\n      <td>3.0</td>\n      <td>3.0</td>\n      <td>2020-07-20</td>\n      <td>1127 days</td>\n    </tr>\n    <tr>\n      <th>2</th>\n      <td>7919400</td>\n      <td>4.976734</td>\n      <td>Apartment</td>\n      <td>Entire home/apt</td>\n      <td>{TV,\"Cable TV\",\"Wireless Internet\",\"Air condit...</td>\n      <td>5</td>\n      <td>1.0</td>\n      <td>Real Bed</td>\n      <td>moderate</td>\n      <td>True</td>\n      <td>NYC</td>\n      <td>The Oasis comes complete with a full backyard ...</td>\n      <td>2017-04-30</td>\n      <td>t</td>\n      <td>t</td>\n      <td>100%</td>\n      <td>2016-10-25</td>\n      <td>t</td>\n      <td>2017-09-14</td>\n      <td>40.808110</td>\n      <td>-73.943756</td>\n      <td>The Garden Oasis</td>\n      <td>Harlem</td>\n      <td>10</td>\n      <td>92.0</td>\n      <td>https://a0.muscache.com/im/pictures/6fae5362-9...</td>\n      <td>10027</td>\n      <td>1.0</td>\n      <td>3.0</td>\n      <td>2020-07-20</td>\n      <td>1364 days</td>\n    </tr>\n    <tr>\n      <th>3</th>\n      <td>13418779</td>\n      <td>6.620073</td>\n      <td>House</td>\n      <td>Entire home/apt</td>\n      <td>{TV,\"Cable TV\",Internet,\"Wireless Internet\",Ki...</td>\n      <td>4</td>\n      <td>1.0</td>\n      <td>Real Bed</td>\n      <td>flexible</td>\n      <td>True</td>\n      <td>SF</td>\n      <td>This light-filled home-away-from-home is super...</td>\n      <td>NaN</td>\n      <td>t</td>\n      <td>t</td>\n      <td>NaN</td>\n      <td>2015-04-19</td>\n      <td>f</td>\n      <td>NaN</td>\n      <td>37.772004</td>\n      <td>-122.431619</td>\n      <td>Beautiful Flat in the Heart of SF!</td>\n      <td>Lower Haight</td>\n      <td>0</td>\n      <td>NaN</td>\n      <td>https://a0.muscache.com/im/pictures/72208dad-9...</td>\n      <td>94117.0</td>\n      <td>2.0</td>\n      <td>2.0</td>\n      <td>2020-07-20</td>\n      <td>1919 days</td>\n    </tr>\n    <tr>\n      <th>4</th>\n      <td>3808709</td>\n      <td>4.744932</td>\n      <td>Apartment</td>\n      <td>Entire home/apt</td>\n      <td>{TV,Internet,\"Wireless Internet\",\"Air conditio...</td>\n      <td>2</td>\n      <td>1.0</td>\n      <td>Real Bed</td>\n      <td>moderate</td>\n      <td>True</td>\n      <td>DC</td>\n      <td>Cool, cozy, and comfortable studio located in ...</td>\n      <td>2015-05-12</td>\n      <td>t</td>\n      <td>t</td>\n      <td>100%</td>\n      <td>2015-03-01</td>\n      <td>t</td>\n      <td>2017-01-22</td>\n      <td>38.925627</td>\n      <td>-77.034596</td>\n      <td>Great studio in midtown DC</td>\n      <td>Columbia Heights</td>\n      <td>4</td>\n      <td>40.0</td>\n      <td>NaN</td>\n      <td>20009</td>\n      <td>0.0</td>\n      <td>1.0</td>\n      <td>2020-07-20</td>\n      <td>1968 days</td>\n    </tr>\n    <tr>\n      <th>...</th>\n      <td>...</td>\n      <td>...</td>\n      <td>...</td>\n      <td>...</td>\n      <td>...</td>\n      <td>...</td>\n      <td>...</td>\n      <td>...</td>\n      <td>...</td>\n      <td>...</td>\n      <td>...</td>\n      <td>...</td>\n      <td>...</td>\n      <td>...</td>\n      <td>...</td>\n      <td>...</td>\n      <td>...</td>\n      <td>...</td>\n      <td>...</td>\n      <td>...</td>\n      <td>...</td>\n      <td>...</td>\n      <td>...</td>\n      <td>...</td>\n      <td>...</td>\n      <td>...</td>\n      <td>...</td>\n      <td>...</td>\n      <td>...</td>\n      <td>...</td>\n      <td>...</td>\n    </tr>\n    <tr>\n      <th>74106</th>\n      <td>14549287</td>\n      <td>4.605170</td>\n      <td>Apartment</td>\n      <td>Private room</td>\n      <td>{}</td>\n      <td>1</td>\n      <td>1.0</td>\n      <td>Real Bed</td>\n      <td>flexible</td>\n      <td>False</td>\n      <td>NYC</td>\n      <td>one room in bushwick apt</td>\n      <td>NaN</td>\n      <td>t</td>\n      <td>t</td>\n      <td>NaN</td>\n      <td>2013-03-24</td>\n      <td>f</td>\n      <td>NaN</td>\n      <td>40.709025</td>\n      <td>-73.939405</td>\n      <td>one room bushwick</td>\n      <td>Williamsburg</td>\n      <td>0</td>\n      <td>NaN</td>\n      <td>https://a0.muscache.com/im/pictures/55162426/6...</td>\n      <td>11206.0</td>\n      <td>1.0</td>\n      <td>1.0</td>\n      <td>2020-07-20</td>\n      <td>2675 days</td>\n    </tr>\n    <tr>\n      <th>74107</th>\n      <td>13281809</td>\n      <td>5.043425</td>\n      <td>Apartment</td>\n      <td>Entire home/apt</td>\n      <td>{TV,\"Cable TV\",Internet,\"Wireless Internet\",Ki...</td>\n      <td>4</td>\n      <td>2.0</td>\n      <td>Real Bed</td>\n      <td>moderate</td>\n      <td>True</td>\n      <td>LA</td>\n      <td>Located on the Pacific Coast Highway, this apa...</td>\n      <td>2016-08-15</td>\n      <td>t</td>\n      <td>f</td>\n      <td>100%</td>\n      <td>2016-05-03</td>\n      <td>f</td>\n      <td>2017-04-15</td>\n      <td>33.871549</td>\n      <td>-118.396053</td>\n      <td>Spacious Hermosa 2 BR on PCH</td>\n      <td>Hermosa Beach</td>\n      <td>16</td>\n      <td>93.0</td>\n      <td>https://a0.muscache.com/im/pictures/2b86560b-a...</td>\n      <td>90254</td>\n      <td>2.0</td>\n      <td>4.0</td>\n      <td>2020-07-20</td>\n      <td>1539 days</td>\n    </tr>\n    <tr>\n      <th>74108</th>\n      <td>18688039</td>\n      <td>5.220356</td>\n      <td>Apartment</td>\n      <td>Entire home/apt</td>\n      <td>{TV,Internet,\"Wireless Internet\",\"Air conditio...</td>\n      <td>5</td>\n      <td>1.0</td>\n      <td>Real Bed</td>\n      <td>moderate</td>\n      <td>True</td>\n      <td>NYC</td>\n      <td>A modern apartment located in East Williamsbur...</td>\n      <td>2015-01-03</td>\n      <td>t</td>\n      <td>t</td>\n      <td>100%</td>\n      <td>2012-01-05</td>\n      <td>t</td>\n      <td>2017-09-10</td>\n      <td>40.706749</td>\n      <td>-73.942377</td>\n      <td>Modern 2 Bedroom Apartment in Williamsburg</td>\n      <td>Williamsburg</td>\n      <td>43</td>\n      <td>94.0</td>\n      <td>https://a0.muscache.com/im/pictures/7fbe448c-5...</td>\n      <td>11206.0</td>\n      <td>2.0</td>\n      <td>2.0</td>\n      <td>2020-07-20</td>\n      <td>3119 days</td>\n    </tr>\n    <tr>\n      <th>74109</th>\n      <td>17045948</td>\n      <td>5.273000</td>\n      <td>Apartment</td>\n      <td>Entire home/apt</td>\n      <td>{TV,\"Wireless Internet\",\"Air conditioning\",Kit...</td>\n      <td>2</td>\n      <td>1.0</td>\n      <td>Real Bed</td>\n      <td>strict</td>\n      <td>True</td>\n      <td>NYC</td>\n      <td>Fully renovated, designer's studio located in ...</td>\n      <td>NaN</td>\n      <td>t</td>\n      <td>f</td>\n      <td>100%</td>\n      <td>2017-09-17</td>\n      <td>t</td>\n      <td>NaN</td>\n      <td>40.738535</td>\n      <td>-74.000157</td>\n      <td>Designer's Apartment in HEART of NYC</td>\n      <td>West Village</td>\n      <td>0</td>\n      <td>NaN</td>\n      <td>https://a0.muscache.com/im/pictures/b3971b63-0...</td>\n      <td>10011</td>\n      <td>0.0</td>\n      <td>2.0</td>\n      <td>2020-07-20</td>\n      <td>1037 days</td>\n    </tr>\n    <tr>\n      <th>74110</th>\n      <td>3534845</td>\n      <td>4.852030</td>\n      <td>Boat</td>\n      <td>Entire home/apt</td>\n      <td>{TV,Internet,\"Wireless Internet\",Kitchen,\"Free...</td>\n      <td>4</td>\n      <td>1.0</td>\n      <td>Real Bed</td>\n      <td>moderate</td>\n      <td>False</td>\n      <td>LA</td>\n      <td>You will stay-aboard the Island Trader at one ...</td>\n      <td>2013-09-05</td>\n      <td>t</td>\n      <td>t</td>\n      <td>100%</td>\n      <td>2012-11-26</td>\n      <td>f</td>\n      <td>2017-04-30</td>\n      <td>33.761096</td>\n      <td>-118.192409</td>\n      <td>Cozy Boat at Shoreline Village</td>\n      <td>Long Beach</td>\n      <td>205</td>\n      <td>96.0</td>\n      <td>https://a0.muscache.com/im/pictures/22968537/d...</td>\n      <td>90802</td>\n      <td>1.0</td>\n      <td>2.0</td>\n      <td>2020-07-20</td>\n      <td>2793 days</td>\n    </tr>\n  </tbody>\n</table>\n<p>74111 rows × 31 columns</p>\n</div>"
     },
     "metadata": {},
     "execution_count": 135
    }
   ],
   "source": [
    "df_clean"
   ]
  },
  {
   "cell_type": "code",
   "execution_count": 136,
   "metadata": {},
   "outputs": [],
   "source": [
    "df_clean['amenities'] = df_clean['amenities'].str.strip('}\"{')\n",
    "df_clean['amenities'] = df_clean['amenities'].str.strip('\"')\n",
    "df_clean['amenities'] = df_clean['amenities'].str.replace('\"', '')\n",
    "df_clean['wifi'] = df_clean['amenities'].str.contains('Wireless Internet' or 'Internet')\n",
    "df_clean['kitchen'] = df_clean['amenities'].str.contains('Kitchen')\n",
    "df_clean['AC'] = df_clean['amenities'].str.contains('Air conditioning')\n",
    "df_clean['TV'] = df_clean['amenities'].str.contains('TV')\n",
    "df_clean['Washer'] = df_clean['amenities'].str.contains('Washer')\n",
    "df_clean['Dryer'] = df_clean['amenities'].str.contains('Dryer')\n",
    "df_clean['PetsFriendly'] = df_clean['amenities'].str.contains('Pets allowed')\n",
    "df_clean['Parking'] = df_clean['amenities'].str.contains('parking')\n",
    "df_clean['EssentialAdmenities'] = df_clean['amenities'].str.contains('Essentials')\n",
    "need = df_clean['property_type'].value_counts().index[:6]\n",
    "df_clean['property_type'] = np.where(df_clean['property_type'].isin(need), df_clean['property_type'], 'Other')\n",
    "need = df_clean['cancellation_policy'].value_counts().index[:3]\n",
    "df_clean['cancellation_policy'] = np.where(df_clean['cancellation_policy'].isin(need), df_clean['cancellation_policy'], 'strict')\n",
    "df_clean['Description_Len'] = df_clean['description'].str.len()"
   ]
  },
  {
   "cell_type": "code",
   "execution_count": 137,
   "metadata": {},
   "outputs": [
    {
     "output_type": "execute_result",
     "data": {
      "text/plain": "             id  log_price property_type        room_type  \\\n0       6901257   5.010635     Apartment  Entire home/apt   \n1       6304928   5.129899     Apartment  Entire home/apt   \n2       7919400   4.976734     Apartment  Entire home/apt   \n3      13418779   6.620073         House  Entire home/apt   \n4       3808709   4.744932     Apartment  Entire home/apt   \n...         ...        ...           ...              ...   \n74106  14549287   4.605170     Apartment     Private room   \n74107  13281809   5.043425     Apartment  Entire home/apt   \n74108  18688039   5.220356     Apartment  Entire home/apt   \n74109  17045948   5.273000     Apartment  Entire home/apt   \n74110   3534845   4.852030         Other  Entire home/apt   \n\n                                               amenities  accommodates  \\\n0      Wireless Internet,Air conditioning,Kitchen,Hea...             3   \n1      Wireless Internet,Air conditioning,Kitchen,Hea...             7   \n2      TV,Cable TV,Wireless Internet,Air conditioning...             5   \n3      TV,Cable TV,Internet,Wireless Internet,Kitchen...             4   \n4      TV,Internet,Wireless Internet,Air conditioning...             2   \n...                                                  ...           ...   \n74106                                                                1   \n74107  TV,Cable TV,Internet,Wireless Internet,Kitchen...             4   \n74108  TV,Internet,Wireless Internet,Air conditioning...             5   \n74109  TV,Wireless Internet,Air conditioning,Kitchen,...             2   \n74110  TV,Internet,Wireless Internet,Kitchen,Free par...             4   \n\n       bathrooms  bed_type cancellation_policy  cleaning_fee city  \\\n0            1.0  Real Bed              strict          True  NYC   \n1            1.0  Real Bed              strict          True  NYC   \n2            1.0  Real Bed            moderate          True  NYC   \n3            1.0  Real Bed            flexible          True   SF   \n4            1.0  Real Bed            moderate          True   DC   \n...          ...       ...                 ...           ...  ...   \n74106        1.0  Real Bed            flexible         False  NYC   \n74107        2.0  Real Bed            moderate          True   LA   \n74108        1.0  Real Bed            moderate          True  NYC   \n74109        1.0  Real Bed              strict          True  NYC   \n74110        1.0  Real Bed            moderate         False   LA   \n\n                                             description first_review  \\\n0      Beautiful, sunlit brownstone 1-bedroom in the ...   2016-06-18   \n1      Enjoy travelling during your stay in Manhattan...   2017-08-05   \n2      The Oasis comes complete with a full backyard ...   2017-04-30   \n3      This light-filled home-away-from-home is super...          NaN   \n4      Cool, cozy, and comfortable studio located in ...   2015-05-12   \n...                                                  ...          ...   \n74106                          one room in bushwick apt           NaN   \n74107  Located on the Pacific Coast Highway, this apa...   2016-08-15   \n74108  A modern apartment located in East Williamsbur...   2015-01-03   \n74109  Fully renovated, designer's studio located in ...          NaN   \n74110  You will stay-aboard the Island Trader at one ...   2013-09-05   \n\n      host_has_profile_pic host_identity_verified host_response_rate  \\\n0                        t                      t                NaN   \n1                        t                      f               100%   \n2                        t                      t               100%   \n3                        t                      t                NaN   \n4                        t                      t               100%   \n...                    ...                    ...                ...   \n74106                    t                      t                NaN   \n74107                    t                      f               100%   \n74108                    t                      t               100%   \n74109                    t                      f               100%   \n74110                    t                      t               100%   \n\n      host_since instant_bookable last_review   latitude   longitude  \\\n0     2012-03-26                f  2016-07-18  40.696524  -73.991617   \n1     2017-06-19                t  2017-09-23  40.766115  -73.989040   \n2     2016-10-25                t  2017-09-14  40.808110  -73.943756   \n3     2015-04-19                f         NaN  37.772004 -122.431619   \n4     2015-03-01                t  2017-01-22  38.925627  -77.034596   \n...          ...              ...         ...        ...         ...   \n74106 2013-03-24                f         NaN  40.709025  -73.939405   \n74107 2016-05-03                f  2017-04-15  33.871549 -118.396053   \n74108 2012-01-05                t  2017-09-10  40.706749  -73.942377   \n74109 2017-09-17                t         NaN  40.738535  -74.000157   \n74110 2012-11-26                f  2017-04-30  33.761096 -118.192409   \n\n                                             name     neighbourhood  \\\n0                  Beautiful brownstone 1-bedroom  Brooklyn Heights   \n1        Superb 3BR Apt Located Near Times Square    Hell's Kitchen   \n2                                The Garden Oasis            Harlem   \n3              Beautiful Flat in the Heart of SF!      Lower Haight   \n4                      Great studio in midtown DC  Columbia Heights   \n...                                           ...               ...   \n74106                           one room bushwick      Williamsburg   \n74107                Spacious Hermosa 2 BR on PCH     Hermosa Beach   \n74108  Modern 2 Bedroom Apartment in Williamsburg      Williamsburg   \n74109        Designer's Apartment in HEART of NYC      West Village   \n74110              Cozy Boat at Shoreline Village        Long Beach   \n\n       number_of_reviews  review_scores_rating  \\\n0                      2                 100.0   \n1                      6                  93.0   \n2                     10                  92.0   \n3                      0                   NaN   \n4                      4                  40.0   \n...                  ...                   ...   \n74106                  0                   NaN   \n74107                 16                  93.0   \n74108                 43                  94.0   \n74109                  0                   NaN   \n74110                205                  96.0   \n\n                                           thumbnail_url  zipcode  bedrooms  \\\n0      https://a0.muscache.com/im/pictures/6d7cbbf7-c...    11201       1.0   \n1      https://a0.muscache.com/im/pictures/348a55fe-4...    10019       3.0   \n2      https://a0.muscache.com/im/pictures/6fae5362-9...    10027       1.0   \n3      https://a0.muscache.com/im/pictures/72208dad-9...  94117.0       2.0   \n4                                                    NaN    20009       0.0   \n...                                                  ...      ...       ...   \n74106  https://a0.muscache.com/im/pictures/55162426/6...  11206.0       1.0   \n74107  https://a0.muscache.com/im/pictures/2b86560b-a...    90254       2.0   \n74108  https://a0.muscache.com/im/pictures/7fbe448c-5...  11206.0       2.0   \n74109  https://a0.muscache.com/im/pictures/b3971b63-0...    10011       0.0   \n74110  https://a0.muscache.com/im/pictures/22968537/d...    90802       1.0   \n\n       beds todaysdate ageofhost   wifi  kitchen     AC     TV  Washer  Dryer  \\\n0       1.0 2020-07-20 3038 days   True     True   True  False   False  False   \n1       3.0 2020-07-20 1127 days   True     True   True  False    True   True   \n2       3.0 2020-07-20 1364 days   True     True   True   True   False  False   \n3       2.0 2020-07-20 1919 days   True     True  False   True    True   True   \n4       1.0 2020-07-20 1968 days   True     True   True   True   False  False   \n...     ...        ...       ...    ...      ...    ...    ...     ...    ...   \n74106   1.0 2020-07-20 2675 days  False    False  False  False   False  False   \n74107   4.0 2020-07-20 1539 days   True     True  False   True    True   True   \n74108   2.0 2020-07-20 3119 days   True     True   True   True    True   True   \n74109   2.0 2020-07-20 1037 days   True     True   True   True    True   True   \n74110   2.0 2020-07-20 2793 days   True     True  False   True   False  False   \n\n       PetsFriendly  Parking  EssentialAdmenities  Description_Len  \n0             False    False                 True              211  \n1             False    False                 True             1000  \n2             False    False                 True             1000  \n3             False    False                 True              468  \n4             False    False                 True              699  \n...             ...      ...                  ...              ...  \n74106         False    False                False               25  \n74107         False     True                 True              302  \n74108         False    False                 True             1000  \n74109         False    False                 True              555  \n74110         False     True                 True             1000  \n\n[74111 rows x 41 columns]",
      "text/html": "<div>\n<style scoped>\n    .dataframe tbody tr th:only-of-type {\n        vertical-align: middle;\n    }\n\n    .dataframe tbody tr th {\n        vertical-align: top;\n    }\n\n    .dataframe thead th {\n        text-align: right;\n    }\n</style>\n<table border=\"1\" class=\"dataframe\">\n  <thead>\n    <tr style=\"text-align: right;\">\n      <th></th>\n      <th>id</th>\n      <th>log_price</th>\n      <th>property_type</th>\n      <th>room_type</th>\n      <th>amenities</th>\n      <th>accommodates</th>\n      <th>bathrooms</th>\n      <th>bed_type</th>\n      <th>cancellation_policy</th>\n      <th>cleaning_fee</th>\n      <th>city</th>\n      <th>description</th>\n      <th>first_review</th>\n      <th>host_has_profile_pic</th>\n      <th>host_identity_verified</th>\n      <th>host_response_rate</th>\n      <th>host_since</th>\n      <th>instant_bookable</th>\n      <th>last_review</th>\n      <th>latitude</th>\n      <th>longitude</th>\n      <th>name</th>\n      <th>neighbourhood</th>\n      <th>number_of_reviews</th>\n      <th>review_scores_rating</th>\n      <th>thumbnail_url</th>\n      <th>zipcode</th>\n      <th>bedrooms</th>\n      <th>beds</th>\n      <th>todaysdate</th>\n      <th>ageofhost</th>\n      <th>wifi</th>\n      <th>kitchen</th>\n      <th>AC</th>\n      <th>TV</th>\n      <th>Washer</th>\n      <th>Dryer</th>\n      <th>PetsFriendly</th>\n      <th>Parking</th>\n      <th>EssentialAdmenities</th>\n      <th>Description_Len</th>\n    </tr>\n  </thead>\n  <tbody>\n    <tr>\n      <th>0</th>\n      <td>6901257</td>\n      <td>5.010635</td>\n      <td>Apartment</td>\n      <td>Entire home/apt</td>\n      <td>Wireless Internet,Air conditioning,Kitchen,Hea...</td>\n      <td>3</td>\n      <td>1.0</td>\n      <td>Real Bed</td>\n      <td>strict</td>\n      <td>True</td>\n      <td>NYC</td>\n      <td>Beautiful, sunlit brownstone 1-bedroom in the ...</td>\n      <td>2016-06-18</td>\n      <td>t</td>\n      <td>t</td>\n      <td>NaN</td>\n      <td>2012-03-26</td>\n      <td>f</td>\n      <td>2016-07-18</td>\n      <td>40.696524</td>\n      <td>-73.991617</td>\n      <td>Beautiful brownstone 1-bedroom</td>\n      <td>Brooklyn Heights</td>\n      <td>2</td>\n      <td>100.0</td>\n      <td>https://a0.muscache.com/im/pictures/6d7cbbf7-c...</td>\n      <td>11201</td>\n      <td>1.0</td>\n      <td>1.0</td>\n      <td>2020-07-20</td>\n      <td>3038 days</td>\n      <td>True</td>\n      <td>True</td>\n      <td>True</td>\n      <td>False</td>\n      <td>False</td>\n      <td>False</td>\n      <td>False</td>\n      <td>False</td>\n      <td>True</td>\n      <td>211</td>\n    </tr>\n    <tr>\n      <th>1</th>\n      <td>6304928</td>\n      <td>5.129899</td>\n      <td>Apartment</td>\n      <td>Entire home/apt</td>\n      <td>Wireless Internet,Air conditioning,Kitchen,Hea...</td>\n      <td>7</td>\n      <td>1.0</td>\n      <td>Real Bed</td>\n      <td>strict</td>\n      <td>True</td>\n      <td>NYC</td>\n      <td>Enjoy travelling during your stay in Manhattan...</td>\n      <td>2017-08-05</td>\n      <td>t</td>\n      <td>f</td>\n      <td>100%</td>\n      <td>2017-06-19</td>\n      <td>t</td>\n      <td>2017-09-23</td>\n      <td>40.766115</td>\n      <td>-73.989040</td>\n      <td>Superb 3BR Apt Located Near Times Square</td>\n      <td>Hell's Kitchen</td>\n      <td>6</td>\n      <td>93.0</td>\n      <td>https://a0.muscache.com/im/pictures/348a55fe-4...</td>\n      <td>10019</td>\n      <td>3.0</td>\n      <td>3.0</td>\n      <td>2020-07-20</td>\n      <td>1127 days</td>\n      <td>True</td>\n      <td>True</td>\n      <td>True</td>\n      <td>False</td>\n      <td>True</td>\n      <td>True</td>\n      <td>False</td>\n      <td>False</td>\n      <td>True</td>\n      <td>1000</td>\n    </tr>\n    <tr>\n      <th>2</th>\n      <td>7919400</td>\n      <td>4.976734</td>\n      <td>Apartment</td>\n      <td>Entire home/apt</td>\n      <td>TV,Cable TV,Wireless Internet,Air conditioning...</td>\n      <td>5</td>\n      <td>1.0</td>\n      <td>Real Bed</td>\n      <td>moderate</td>\n      <td>True</td>\n      <td>NYC</td>\n      <td>The Oasis comes complete with a full backyard ...</td>\n      <td>2017-04-30</td>\n      <td>t</td>\n      <td>t</td>\n      <td>100%</td>\n      <td>2016-10-25</td>\n      <td>t</td>\n      <td>2017-09-14</td>\n      <td>40.808110</td>\n      <td>-73.943756</td>\n      <td>The Garden Oasis</td>\n      <td>Harlem</td>\n      <td>10</td>\n      <td>92.0</td>\n      <td>https://a0.muscache.com/im/pictures/6fae5362-9...</td>\n      <td>10027</td>\n      <td>1.0</td>\n      <td>3.0</td>\n      <td>2020-07-20</td>\n      <td>1364 days</td>\n      <td>True</td>\n      <td>True</td>\n      <td>True</td>\n      <td>True</td>\n      <td>False</td>\n      <td>False</td>\n      <td>False</td>\n      <td>False</td>\n      <td>True</td>\n      <td>1000</td>\n    </tr>\n    <tr>\n      <th>3</th>\n      <td>13418779</td>\n      <td>6.620073</td>\n      <td>House</td>\n      <td>Entire home/apt</td>\n      <td>TV,Cable TV,Internet,Wireless Internet,Kitchen...</td>\n      <td>4</td>\n      <td>1.0</td>\n      <td>Real Bed</td>\n      <td>flexible</td>\n      <td>True</td>\n      <td>SF</td>\n      <td>This light-filled home-away-from-home is super...</td>\n      <td>NaN</td>\n      <td>t</td>\n      <td>t</td>\n      <td>NaN</td>\n      <td>2015-04-19</td>\n      <td>f</td>\n      <td>NaN</td>\n      <td>37.772004</td>\n      <td>-122.431619</td>\n      <td>Beautiful Flat in the Heart of SF!</td>\n      <td>Lower Haight</td>\n      <td>0</td>\n      <td>NaN</td>\n      <td>https://a0.muscache.com/im/pictures/72208dad-9...</td>\n      <td>94117.0</td>\n      <td>2.0</td>\n      <td>2.0</td>\n      <td>2020-07-20</td>\n      <td>1919 days</td>\n      <td>True</td>\n      <td>True</td>\n      <td>False</td>\n      <td>True</td>\n      <td>True</td>\n      <td>True</td>\n      <td>False</td>\n      <td>False</td>\n      <td>True</td>\n      <td>468</td>\n    </tr>\n    <tr>\n      <th>4</th>\n      <td>3808709</td>\n      <td>4.744932</td>\n      <td>Apartment</td>\n      <td>Entire home/apt</td>\n      <td>TV,Internet,Wireless Internet,Air conditioning...</td>\n      <td>2</td>\n      <td>1.0</td>\n      <td>Real Bed</td>\n      <td>moderate</td>\n      <td>True</td>\n      <td>DC</td>\n      <td>Cool, cozy, and comfortable studio located in ...</td>\n      <td>2015-05-12</td>\n      <td>t</td>\n      <td>t</td>\n      <td>100%</td>\n      <td>2015-03-01</td>\n      <td>t</td>\n      <td>2017-01-22</td>\n      <td>38.925627</td>\n      <td>-77.034596</td>\n      <td>Great studio in midtown DC</td>\n      <td>Columbia Heights</td>\n      <td>4</td>\n      <td>40.0</td>\n      <td>NaN</td>\n      <td>20009</td>\n      <td>0.0</td>\n      <td>1.0</td>\n      <td>2020-07-20</td>\n      <td>1968 days</td>\n      <td>True</td>\n      <td>True</td>\n      <td>True</td>\n      <td>True</td>\n      <td>False</td>\n      <td>False</td>\n      <td>False</td>\n      <td>False</td>\n      <td>True</td>\n      <td>699</td>\n    </tr>\n    <tr>\n      <th>...</th>\n      <td>...</td>\n      <td>...</td>\n      <td>...</td>\n      <td>...</td>\n      <td>...</td>\n      <td>...</td>\n      <td>...</td>\n      <td>...</td>\n      <td>...</td>\n      <td>...</td>\n      <td>...</td>\n      <td>...</td>\n      <td>...</td>\n      <td>...</td>\n      <td>...</td>\n      <td>...</td>\n      <td>...</td>\n      <td>...</td>\n      <td>...</td>\n      <td>...</td>\n      <td>...</td>\n      <td>...</td>\n      <td>...</td>\n      <td>...</td>\n      <td>...</td>\n      <td>...</td>\n      <td>...</td>\n      <td>...</td>\n      <td>...</td>\n      <td>...</td>\n      <td>...</td>\n      <td>...</td>\n      <td>...</td>\n      <td>...</td>\n      <td>...</td>\n      <td>...</td>\n      <td>...</td>\n      <td>...</td>\n      <td>...</td>\n      <td>...</td>\n      <td>...</td>\n    </tr>\n    <tr>\n      <th>74106</th>\n      <td>14549287</td>\n      <td>4.605170</td>\n      <td>Apartment</td>\n      <td>Private room</td>\n      <td></td>\n      <td>1</td>\n      <td>1.0</td>\n      <td>Real Bed</td>\n      <td>flexible</td>\n      <td>False</td>\n      <td>NYC</td>\n      <td>one room in bushwick apt</td>\n      <td>NaN</td>\n      <td>t</td>\n      <td>t</td>\n      <td>NaN</td>\n      <td>2013-03-24</td>\n      <td>f</td>\n      <td>NaN</td>\n      <td>40.709025</td>\n      <td>-73.939405</td>\n      <td>one room bushwick</td>\n      <td>Williamsburg</td>\n      <td>0</td>\n      <td>NaN</td>\n      <td>https://a0.muscache.com/im/pictures/55162426/6...</td>\n      <td>11206.0</td>\n      <td>1.0</td>\n      <td>1.0</td>\n      <td>2020-07-20</td>\n      <td>2675 days</td>\n      <td>False</td>\n      <td>False</td>\n      <td>False</td>\n      <td>False</td>\n      <td>False</td>\n      <td>False</td>\n      <td>False</td>\n      <td>False</td>\n      <td>False</td>\n      <td>25</td>\n    </tr>\n    <tr>\n      <th>74107</th>\n      <td>13281809</td>\n      <td>5.043425</td>\n      <td>Apartment</td>\n      <td>Entire home/apt</td>\n      <td>TV,Cable TV,Internet,Wireless Internet,Kitchen...</td>\n      <td>4</td>\n      <td>2.0</td>\n      <td>Real Bed</td>\n      <td>moderate</td>\n      <td>True</td>\n      <td>LA</td>\n      <td>Located on the Pacific Coast Highway, this apa...</td>\n      <td>2016-08-15</td>\n      <td>t</td>\n      <td>f</td>\n      <td>100%</td>\n      <td>2016-05-03</td>\n      <td>f</td>\n      <td>2017-04-15</td>\n      <td>33.871549</td>\n      <td>-118.396053</td>\n      <td>Spacious Hermosa 2 BR on PCH</td>\n      <td>Hermosa Beach</td>\n      <td>16</td>\n      <td>93.0</td>\n      <td>https://a0.muscache.com/im/pictures/2b86560b-a...</td>\n      <td>90254</td>\n      <td>2.0</td>\n      <td>4.0</td>\n      <td>2020-07-20</td>\n      <td>1539 days</td>\n      <td>True</td>\n      <td>True</td>\n      <td>False</td>\n      <td>True</td>\n      <td>True</td>\n      <td>True</td>\n      <td>False</td>\n      <td>True</td>\n      <td>True</td>\n      <td>302</td>\n    </tr>\n    <tr>\n      <th>74108</th>\n      <td>18688039</td>\n      <td>5.220356</td>\n      <td>Apartment</td>\n      <td>Entire home/apt</td>\n      <td>TV,Internet,Wireless Internet,Air conditioning...</td>\n      <td>5</td>\n      <td>1.0</td>\n      <td>Real Bed</td>\n      <td>moderate</td>\n      <td>True</td>\n      <td>NYC</td>\n      <td>A modern apartment located in East Williamsbur...</td>\n      <td>2015-01-03</td>\n      <td>t</td>\n      <td>t</td>\n      <td>100%</td>\n      <td>2012-01-05</td>\n      <td>t</td>\n      <td>2017-09-10</td>\n      <td>40.706749</td>\n      <td>-73.942377</td>\n      <td>Modern 2 Bedroom Apartment in Williamsburg</td>\n      <td>Williamsburg</td>\n      <td>43</td>\n      <td>94.0</td>\n      <td>https://a0.muscache.com/im/pictures/7fbe448c-5...</td>\n      <td>11206.0</td>\n      <td>2.0</td>\n      <td>2.0</td>\n      <td>2020-07-20</td>\n      <td>3119 days</td>\n      <td>True</td>\n      <td>True</td>\n      <td>True</td>\n      <td>True</td>\n      <td>True</td>\n      <td>True</td>\n      <td>False</td>\n      <td>False</td>\n      <td>True</td>\n      <td>1000</td>\n    </tr>\n    <tr>\n      <th>74109</th>\n      <td>17045948</td>\n      <td>5.273000</td>\n      <td>Apartment</td>\n      <td>Entire home/apt</td>\n      <td>TV,Wireless Internet,Air conditioning,Kitchen,...</td>\n      <td>2</td>\n      <td>1.0</td>\n      <td>Real Bed</td>\n      <td>strict</td>\n      <td>True</td>\n      <td>NYC</td>\n      <td>Fully renovated, designer's studio located in ...</td>\n      <td>NaN</td>\n      <td>t</td>\n      <td>f</td>\n      <td>100%</td>\n      <td>2017-09-17</td>\n      <td>t</td>\n      <td>NaN</td>\n      <td>40.738535</td>\n      <td>-74.000157</td>\n      <td>Designer's Apartment in HEART of NYC</td>\n      <td>West Village</td>\n      <td>0</td>\n      <td>NaN</td>\n      <td>https://a0.muscache.com/im/pictures/b3971b63-0...</td>\n      <td>10011</td>\n      <td>0.0</td>\n      <td>2.0</td>\n      <td>2020-07-20</td>\n      <td>1037 days</td>\n      <td>True</td>\n      <td>True</td>\n      <td>True</td>\n      <td>True</td>\n      <td>True</td>\n      <td>True</td>\n      <td>False</td>\n      <td>False</td>\n      <td>True</td>\n      <td>555</td>\n    </tr>\n    <tr>\n      <th>74110</th>\n      <td>3534845</td>\n      <td>4.852030</td>\n      <td>Other</td>\n      <td>Entire home/apt</td>\n      <td>TV,Internet,Wireless Internet,Kitchen,Free par...</td>\n      <td>4</td>\n      <td>1.0</td>\n      <td>Real Bed</td>\n      <td>moderate</td>\n      <td>False</td>\n      <td>LA</td>\n      <td>You will stay-aboard the Island Trader at one ...</td>\n      <td>2013-09-05</td>\n      <td>t</td>\n      <td>t</td>\n      <td>100%</td>\n      <td>2012-11-26</td>\n      <td>f</td>\n      <td>2017-04-30</td>\n      <td>33.761096</td>\n      <td>-118.192409</td>\n      <td>Cozy Boat at Shoreline Village</td>\n      <td>Long Beach</td>\n      <td>205</td>\n      <td>96.0</td>\n      <td>https://a0.muscache.com/im/pictures/22968537/d...</td>\n      <td>90802</td>\n      <td>1.0</td>\n      <td>2.0</td>\n      <td>2020-07-20</td>\n      <td>2793 days</td>\n      <td>True</td>\n      <td>True</td>\n      <td>False</td>\n      <td>True</td>\n      <td>False</td>\n      <td>False</td>\n      <td>False</td>\n      <td>True</td>\n      <td>True</td>\n      <td>1000</td>\n    </tr>\n  </tbody>\n</table>\n<p>74111 rows × 41 columns</p>\n</div>"
     },
     "metadata": {},
     "execution_count": 137
    }
   ],
   "source": [
    "df_clean"
   ]
  },
  {
   "cell_type": "code",
   "execution_count": 138,
   "metadata": {},
   "outputs": [],
   "source": [
    "df_clean.drop(columns=[\n",
    "\n",
    "\n",
    "\n",
    "\n",
    "'amenities',\n",
    "\n",
    "\n",
    " 'description',\n",
    " 'first_review',\n",
    "\n",
    " 'host_response_rate',\n",
    "\n",
    " 'last_review',\n",
    "\n",
    " 'name',\n",
    " 'neighbourhood',\n",
    " 'number_of_reviews',\n",
    "\n",
    " 'thumbnail_url',\n",
    " \n",
    "], inplace=True)"
   ]
  },
  {
   "cell_type": "code",
   "execution_count": 139,
   "metadata": {},
   "outputs": [
    {
     "output_type": "execute_result",
     "data": {
      "text/plain": "['id',\n 'log_price',\n 'property_type',\n 'room_type',\n 'accommodates',\n 'bathrooms',\n 'bed_type',\n 'cancellation_policy',\n 'cleaning_fee',\n 'city',\n 'host_has_profile_pic',\n 'host_identity_verified',\n 'host_since',\n 'instant_bookable',\n 'latitude',\n 'longitude',\n 'review_scores_rating',\n 'zipcode',\n 'bedrooms',\n 'beds',\n 'todaysdate',\n 'ageofhost',\n 'wifi',\n 'kitchen',\n 'AC',\n 'TV',\n 'Washer',\n 'Dryer',\n 'PetsFriendly',\n 'Parking',\n 'EssentialAdmenities',\n 'Description_Len']"
     },
     "metadata": {},
     "execution_count": 139
    }
   ],
   "source": [
    "list(df_clean.columns)"
   ]
  },
  {
   "cell_type": "code",
   "execution_count": 82,
   "metadata": {},
   "outputs": [],
   "source": []
  },
  {
   "cell_type": "code",
   "execution_count": 140,
   "metadata": {},
   "outputs": [],
   "source": [
    "df_clean.to_csv('clean.csv',index=False)"
   ]
  },
  {
   "cell_type": "code",
   "execution_count": 141,
   "metadata": {},
   "outputs": [],
   "source": [
    "df_clean = pd.read_csv('clean.csv')"
   ]
  },
  {
   "cell_type": "code",
   "execution_count": 142,
   "metadata": {},
   "outputs": [
    {
     "output_type": "execute_result",
     "data": {
      "text/plain": "             id  log_price property_type        room_type  accommodates  \\\n0       6901257   5.010635     Apartment  Entire home/apt             3   \n1       6304928   5.129899     Apartment  Entire home/apt             7   \n2       7919400   4.976734     Apartment  Entire home/apt             5   \n3      13418779   6.620073         House  Entire home/apt             4   \n4       3808709   4.744932     Apartment  Entire home/apt             2   \n...         ...        ...           ...              ...           ...   \n74106  14549287   4.605170     Apartment     Private room             1   \n74107  13281809   5.043425     Apartment  Entire home/apt             4   \n74108  18688039   5.220356     Apartment  Entire home/apt             5   \n74109  17045948   5.273000     Apartment  Entire home/apt             2   \n74110   3534845   4.852030         Other  Entire home/apt             4   \n\n       bathrooms  bed_type cancellation_policy  cleaning_fee city  \\\n0            1.0  Real Bed              strict          True  NYC   \n1            1.0  Real Bed              strict          True  NYC   \n2            1.0  Real Bed            moderate          True  NYC   \n3            1.0  Real Bed            flexible          True   SF   \n4            1.0  Real Bed            moderate          True   DC   \n...          ...       ...                 ...           ...  ...   \n74106        1.0  Real Bed            flexible         False  NYC   \n74107        2.0  Real Bed            moderate          True   LA   \n74108        1.0  Real Bed            moderate          True  NYC   \n74109        1.0  Real Bed              strict          True  NYC   \n74110        1.0  Real Bed            moderate         False   LA   \n\n      host_has_profile_pic host_identity_verified  host_since  \\\n0                        t                      t  2012-03-26   \n1                        t                      f  2017-06-19   \n2                        t                      t  2016-10-25   \n3                        t                      t  2015-04-19   \n4                        t                      t  2015-03-01   \n...                    ...                    ...         ...   \n74106                    t                      t  2013-03-24   \n74107                    t                      f  2016-05-03   \n74108                    t                      t  2012-01-05   \n74109                    t                      f  2017-09-17   \n74110                    t                      t  2012-11-26   \n\n      instant_bookable   latitude   longitude  review_scores_rating  zipcode  \\\n0                    f  40.696524  -73.991617                 100.0    11201   \n1                    t  40.766115  -73.989040                  93.0    10019   \n2                    t  40.808110  -73.943756                  92.0    10027   \n3                    f  37.772004 -122.431619                   NaN  94117.0   \n4                    t  38.925627  -77.034596                  40.0    20009   \n...                ...        ...         ...                   ...      ...   \n74106                f  40.709025  -73.939405                   NaN  11206.0   \n74107                f  33.871549 -118.396053                  93.0    90254   \n74108                t  40.706749  -73.942377                  94.0  11206.0   \n74109                t  40.738535  -74.000157                   NaN    10011   \n74110                f  33.761096 -118.192409                  96.0    90802   \n\n       bedrooms  beds  todaysdate                     ageofhost   wifi  \\\n0           1.0   1.0  2020-07-20  3038 days 00:00:00.000000000   True   \n1           3.0   3.0  2020-07-20  1127 days 00:00:00.000000000   True   \n2           1.0   3.0  2020-07-20  1364 days 00:00:00.000000000   True   \n3           2.0   2.0  2020-07-20  1919 days 00:00:00.000000000   True   \n4           0.0   1.0  2020-07-20  1968 days 00:00:00.000000000   True   \n...         ...   ...         ...                           ...    ...   \n74106       1.0   1.0  2020-07-20  2675 days 00:00:00.000000000  False   \n74107       2.0   4.0  2020-07-20  1539 days 00:00:00.000000000   True   \n74108       2.0   2.0  2020-07-20  3119 days 00:00:00.000000000   True   \n74109       0.0   2.0  2020-07-20  1037 days 00:00:00.000000000   True   \n74110       1.0   2.0  2020-07-20  2793 days 00:00:00.000000000   True   \n\n       kitchen     AC     TV  Washer  Dryer  PetsFriendly  Parking  \\\n0         True   True  False   False  False         False    False   \n1         True   True  False    True   True         False    False   \n2         True   True   True   False  False         False    False   \n3         True  False   True    True   True         False    False   \n4         True   True   True   False  False         False    False   \n...        ...    ...    ...     ...    ...           ...      ...   \n74106    False  False  False   False  False         False    False   \n74107     True  False   True    True   True         False     True   \n74108     True   True   True    True   True         False    False   \n74109     True   True   True    True   True         False    False   \n74110     True  False   True   False  False         False     True   \n\n       EssentialAdmenities  Description_Len  \n0                     True              211  \n1                     True             1000  \n2                     True             1000  \n3                     True              468  \n4                     True              699  \n...                    ...              ...  \n74106                False               25  \n74107                 True              302  \n74108                 True             1000  \n74109                 True              555  \n74110                 True             1000  \n\n[74111 rows x 32 columns]",
      "text/html": "<div>\n<style scoped>\n    .dataframe tbody tr th:only-of-type {\n        vertical-align: middle;\n    }\n\n    .dataframe tbody tr th {\n        vertical-align: top;\n    }\n\n    .dataframe thead th {\n        text-align: right;\n    }\n</style>\n<table border=\"1\" class=\"dataframe\">\n  <thead>\n    <tr style=\"text-align: right;\">\n      <th></th>\n      <th>id</th>\n      <th>log_price</th>\n      <th>property_type</th>\n      <th>room_type</th>\n      <th>accommodates</th>\n      <th>bathrooms</th>\n      <th>bed_type</th>\n      <th>cancellation_policy</th>\n      <th>cleaning_fee</th>\n      <th>city</th>\n      <th>host_has_profile_pic</th>\n      <th>host_identity_verified</th>\n      <th>host_since</th>\n      <th>instant_bookable</th>\n      <th>latitude</th>\n      <th>longitude</th>\n      <th>review_scores_rating</th>\n      <th>zipcode</th>\n      <th>bedrooms</th>\n      <th>beds</th>\n      <th>todaysdate</th>\n      <th>ageofhost</th>\n      <th>wifi</th>\n      <th>kitchen</th>\n      <th>AC</th>\n      <th>TV</th>\n      <th>Washer</th>\n      <th>Dryer</th>\n      <th>PetsFriendly</th>\n      <th>Parking</th>\n      <th>EssentialAdmenities</th>\n      <th>Description_Len</th>\n    </tr>\n  </thead>\n  <tbody>\n    <tr>\n      <th>0</th>\n      <td>6901257</td>\n      <td>5.010635</td>\n      <td>Apartment</td>\n      <td>Entire home/apt</td>\n      <td>3</td>\n      <td>1.0</td>\n      <td>Real Bed</td>\n      <td>strict</td>\n      <td>True</td>\n      <td>NYC</td>\n      <td>t</td>\n      <td>t</td>\n      <td>2012-03-26</td>\n      <td>f</td>\n      <td>40.696524</td>\n      <td>-73.991617</td>\n      <td>100.0</td>\n      <td>11201</td>\n      <td>1.0</td>\n      <td>1.0</td>\n      <td>2020-07-20</td>\n      <td>3038 days 00:00:00.000000000</td>\n      <td>True</td>\n      <td>True</td>\n      <td>True</td>\n      <td>False</td>\n      <td>False</td>\n      <td>False</td>\n      <td>False</td>\n      <td>False</td>\n      <td>True</td>\n      <td>211</td>\n    </tr>\n    <tr>\n      <th>1</th>\n      <td>6304928</td>\n      <td>5.129899</td>\n      <td>Apartment</td>\n      <td>Entire home/apt</td>\n      <td>7</td>\n      <td>1.0</td>\n      <td>Real Bed</td>\n      <td>strict</td>\n      <td>True</td>\n      <td>NYC</td>\n      <td>t</td>\n      <td>f</td>\n      <td>2017-06-19</td>\n      <td>t</td>\n      <td>40.766115</td>\n      <td>-73.989040</td>\n      <td>93.0</td>\n      <td>10019</td>\n      <td>3.0</td>\n      <td>3.0</td>\n      <td>2020-07-20</td>\n      <td>1127 days 00:00:00.000000000</td>\n      <td>True</td>\n      <td>True</td>\n      <td>True</td>\n      <td>False</td>\n      <td>True</td>\n      <td>True</td>\n      <td>False</td>\n      <td>False</td>\n      <td>True</td>\n      <td>1000</td>\n    </tr>\n    <tr>\n      <th>2</th>\n      <td>7919400</td>\n      <td>4.976734</td>\n      <td>Apartment</td>\n      <td>Entire home/apt</td>\n      <td>5</td>\n      <td>1.0</td>\n      <td>Real Bed</td>\n      <td>moderate</td>\n      <td>True</td>\n      <td>NYC</td>\n      <td>t</td>\n      <td>t</td>\n      <td>2016-10-25</td>\n      <td>t</td>\n      <td>40.808110</td>\n      <td>-73.943756</td>\n      <td>92.0</td>\n      <td>10027</td>\n      <td>1.0</td>\n      <td>3.0</td>\n      <td>2020-07-20</td>\n      <td>1364 days 00:00:00.000000000</td>\n      <td>True</td>\n      <td>True</td>\n      <td>True</td>\n      <td>True</td>\n      <td>False</td>\n      <td>False</td>\n      <td>False</td>\n      <td>False</td>\n      <td>True</td>\n      <td>1000</td>\n    </tr>\n    <tr>\n      <th>3</th>\n      <td>13418779</td>\n      <td>6.620073</td>\n      <td>House</td>\n      <td>Entire home/apt</td>\n      <td>4</td>\n      <td>1.0</td>\n      <td>Real Bed</td>\n      <td>flexible</td>\n      <td>True</td>\n      <td>SF</td>\n      <td>t</td>\n      <td>t</td>\n      <td>2015-04-19</td>\n      <td>f</td>\n      <td>37.772004</td>\n      <td>-122.431619</td>\n      <td>NaN</td>\n      <td>94117.0</td>\n      <td>2.0</td>\n      <td>2.0</td>\n      <td>2020-07-20</td>\n      <td>1919 days 00:00:00.000000000</td>\n      <td>True</td>\n      <td>True</td>\n      <td>False</td>\n      <td>True</td>\n      <td>True</td>\n      <td>True</td>\n      <td>False</td>\n      <td>False</td>\n      <td>True</td>\n      <td>468</td>\n    </tr>\n    <tr>\n      <th>4</th>\n      <td>3808709</td>\n      <td>4.744932</td>\n      <td>Apartment</td>\n      <td>Entire home/apt</td>\n      <td>2</td>\n      <td>1.0</td>\n      <td>Real Bed</td>\n      <td>moderate</td>\n      <td>True</td>\n      <td>DC</td>\n      <td>t</td>\n      <td>t</td>\n      <td>2015-03-01</td>\n      <td>t</td>\n      <td>38.925627</td>\n      <td>-77.034596</td>\n      <td>40.0</td>\n      <td>20009</td>\n      <td>0.0</td>\n      <td>1.0</td>\n      <td>2020-07-20</td>\n      <td>1968 days 00:00:00.000000000</td>\n      <td>True</td>\n      <td>True</td>\n      <td>True</td>\n      <td>True</td>\n      <td>False</td>\n      <td>False</td>\n      <td>False</td>\n      <td>False</td>\n      <td>True</td>\n      <td>699</td>\n    </tr>\n    <tr>\n      <th>...</th>\n      <td>...</td>\n      <td>...</td>\n      <td>...</td>\n      <td>...</td>\n      <td>...</td>\n      <td>...</td>\n      <td>...</td>\n      <td>...</td>\n      <td>...</td>\n      <td>...</td>\n      <td>...</td>\n      <td>...</td>\n      <td>...</td>\n      <td>...</td>\n      <td>...</td>\n      <td>...</td>\n      <td>...</td>\n      <td>...</td>\n      <td>...</td>\n      <td>...</td>\n      <td>...</td>\n      <td>...</td>\n      <td>...</td>\n      <td>...</td>\n      <td>...</td>\n      <td>...</td>\n      <td>...</td>\n      <td>...</td>\n      <td>...</td>\n      <td>...</td>\n      <td>...</td>\n      <td>...</td>\n    </tr>\n    <tr>\n      <th>74106</th>\n      <td>14549287</td>\n      <td>4.605170</td>\n      <td>Apartment</td>\n      <td>Private room</td>\n      <td>1</td>\n      <td>1.0</td>\n      <td>Real Bed</td>\n      <td>flexible</td>\n      <td>False</td>\n      <td>NYC</td>\n      <td>t</td>\n      <td>t</td>\n      <td>2013-03-24</td>\n      <td>f</td>\n      <td>40.709025</td>\n      <td>-73.939405</td>\n      <td>NaN</td>\n      <td>11206.0</td>\n      <td>1.0</td>\n      <td>1.0</td>\n      <td>2020-07-20</td>\n      <td>2675 days 00:00:00.000000000</td>\n      <td>False</td>\n      <td>False</td>\n      <td>False</td>\n      <td>False</td>\n      <td>False</td>\n      <td>False</td>\n      <td>False</td>\n      <td>False</td>\n      <td>False</td>\n      <td>25</td>\n    </tr>\n    <tr>\n      <th>74107</th>\n      <td>13281809</td>\n      <td>5.043425</td>\n      <td>Apartment</td>\n      <td>Entire home/apt</td>\n      <td>4</td>\n      <td>2.0</td>\n      <td>Real Bed</td>\n      <td>moderate</td>\n      <td>True</td>\n      <td>LA</td>\n      <td>t</td>\n      <td>f</td>\n      <td>2016-05-03</td>\n      <td>f</td>\n      <td>33.871549</td>\n      <td>-118.396053</td>\n      <td>93.0</td>\n      <td>90254</td>\n      <td>2.0</td>\n      <td>4.0</td>\n      <td>2020-07-20</td>\n      <td>1539 days 00:00:00.000000000</td>\n      <td>True</td>\n      <td>True</td>\n      <td>False</td>\n      <td>True</td>\n      <td>True</td>\n      <td>True</td>\n      <td>False</td>\n      <td>True</td>\n      <td>True</td>\n      <td>302</td>\n    </tr>\n    <tr>\n      <th>74108</th>\n      <td>18688039</td>\n      <td>5.220356</td>\n      <td>Apartment</td>\n      <td>Entire home/apt</td>\n      <td>5</td>\n      <td>1.0</td>\n      <td>Real Bed</td>\n      <td>moderate</td>\n      <td>True</td>\n      <td>NYC</td>\n      <td>t</td>\n      <td>t</td>\n      <td>2012-01-05</td>\n      <td>t</td>\n      <td>40.706749</td>\n      <td>-73.942377</td>\n      <td>94.0</td>\n      <td>11206.0</td>\n      <td>2.0</td>\n      <td>2.0</td>\n      <td>2020-07-20</td>\n      <td>3119 days 00:00:00.000000000</td>\n      <td>True</td>\n      <td>True</td>\n      <td>True</td>\n      <td>True</td>\n      <td>True</td>\n      <td>True</td>\n      <td>False</td>\n      <td>False</td>\n      <td>True</td>\n      <td>1000</td>\n    </tr>\n    <tr>\n      <th>74109</th>\n      <td>17045948</td>\n      <td>5.273000</td>\n      <td>Apartment</td>\n      <td>Entire home/apt</td>\n      <td>2</td>\n      <td>1.0</td>\n      <td>Real Bed</td>\n      <td>strict</td>\n      <td>True</td>\n      <td>NYC</td>\n      <td>t</td>\n      <td>f</td>\n      <td>2017-09-17</td>\n      <td>t</td>\n      <td>40.738535</td>\n      <td>-74.000157</td>\n      <td>NaN</td>\n      <td>10011</td>\n      <td>0.0</td>\n      <td>2.0</td>\n      <td>2020-07-20</td>\n      <td>1037 days 00:00:00.000000000</td>\n      <td>True</td>\n      <td>True</td>\n      <td>True</td>\n      <td>True</td>\n      <td>True</td>\n      <td>True</td>\n      <td>False</td>\n      <td>False</td>\n      <td>True</td>\n      <td>555</td>\n    </tr>\n    <tr>\n      <th>74110</th>\n      <td>3534845</td>\n      <td>4.852030</td>\n      <td>Other</td>\n      <td>Entire home/apt</td>\n      <td>4</td>\n      <td>1.0</td>\n      <td>Real Bed</td>\n      <td>moderate</td>\n      <td>False</td>\n      <td>LA</td>\n      <td>t</td>\n      <td>t</td>\n      <td>2012-11-26</td>\n      <td>f</td>\n      <td>33.761096</td>\n      <td>-118.192409</td>\n      <td>96.0</td>\n      <td>90802</td>\n      <td>1.0</td>\n      <td>2.0</td>\n      <td>2020-07-20</td>\n      <td>2793 days 00:00:00.000000000</td>\n      <td>True</td>\n      <td>True</td>\n      <td>False</td>\n      <td>True</td>\n      <td>False</td>\n      <td>False</td>\n      <td>False</td>\n      <td>True</td>\n      <td>True</td>\n      <td>1000</td>\n    </tr>\n  </tbody>\n</table>\n<p>74111 rows × 32 columns</p>\n</div>"
     },
     "metadata": {},
     "execution_count": 142
    }
   ],
   "source": [
    "df_clean"
   ]
  },
  {
   "cell_type": "code",
   "execution_count": 143,
   "metadata": {},
   "outputs": [],
   "source": [
    "df_clean.drop(columns=['todaysdate'], inplace=True)"
   ]
  },
  {
   "cell_type": "code",
   "execution_count": 145,
   "metadata": {},
   "outputs": [],
   "source": [
    "df_clean.to_csv('clean.csv',index=False)"
   ]
  },
  {
   "cell_type": "code",
   "execution_count": null,
   "metadata": {},
   "outputs": [],
   "source": []
  }
 ]
}